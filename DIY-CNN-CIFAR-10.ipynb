{
 "cells": [
  {
   "cell_type": "markdown",
   "id": "8805ac69",
   "metadata": {
    "papermill": {
     "duration": 0.022886,
     "end_time": "2022-12-24T17:02:23.317036",
     "exception": false,
     "start_time": "2022-12-24T17:02:23.294150",
     "status": "completed"
    },
    "tags": []
   },
   "source": [
    "# Introduction\n",
    "\n",
    "In this project, you will build a neural network of your own design to evaluate the CIFAR-10 dataset.\n",
    "Our target accuracy is 70%, but any accuracy over 50% is a great start.\n",
    "Some of the benchmark results on CIFAR-10 include:\n",
    "\n",
    "78.9% Accuracy | [Deep Belief Networks; Krizhevsky, 2010](https://www.cs.toronto.edu/~kriz/conv-cifar10-aug2010.pdf)\n",
    "\n",
    "90.6% Accuracy | [Maxout Networks; Goodfellow et al., 2013](https://arxiv.org/pdf/1302.4389.pdf)\n",
    "\n",
    "96.0% Accuracy | [Wide Residual Networks; Zagoruyko et al., 2016](https://arxiv.org/pdf/1605.07146.pdf)\n",
    "\n",
    "99.0% Accuracy | [GPipe; Huang et al., 2018](https://arxiv.org/pdf/1811.06965.pdf)\n",
    "\n",
    "98.5% Accuracy | [Rethinking Recurrent Neural Networks and other Improvements for ImageClassification; Nguyen et al., 2020](https://arxiv.org/pdf/2007.15161.pdf)\n",
    "\n",
    "Research with this dataset is ongoing. Notably, many of these networks are quite large and quite expensive to train. \n",
    "\n",
    "## Citations\n",
    "\n",
    "Dataset: This tech report (Chapter 3) describes the dataset and the methodology followed when collecting it in much greater detail. Please cite it if you intend to use this dataset.\n",
    "[Learning Multiple Layers of Features from Tiny Images](https://www.cs.toronto.edu/~kriz/learning-features-2009-TR.pdf), Alex Krizhevsky, 2009.\n",
    "\n",
    "[Normalization values for transforms:](https://stackoverflow.com/questions/66678052/how-to-calculate-the-mean-and-the-std-of-cifar10-data)\n",
    "\n",
    "[Transfer Learning for Computer Vision Tutorial](https://pytorch.org/tutorials/beginner/transfer_learning_tutorial.html) - was referred by a very nice technical mentor I reached out to after going crazy all weekend with a feed-forward model that would not learn! :)\n",
    "\n",
    "\n",
    "\n",
    "## Imports"
   ]
  },
  {
   "cell_type": "code",
   "execution_count": 1,
   "id": "fdc7692e",
   "metadata": {
    "execution": {
     "iopub.execute_input": "2022-12-24T17:02:23.365328Z",
     "iopub.status.busy": "2022-12-24T17:02:23.364850Z",
     "iopub.status.idle": "2022-12-24T17:02:25.363527Z",
     "shell.execute_reply": "2022-12-24T17:02:25.362343Z"
    },
    "papermill": {
     "duration": 2.025979,
     "end_time": "2022-12-24T17:02:25.367195",
     "exception": false,
     "start_time": "2022-12-24T17:02:23.341216",
     "status": "completed"
    },
    "tags": []
   },
   "outputs": [],
   "source": [
    "## This cell contains the essential imports you will need – DO NOT CHANGE THE CONTENTS! ##\n",
    "import torch\n",
    "import torch.nn as nn\n",
    "import torch.nn.functional as F\n",
    "import torch.optim as optim\n",
    "import torchvision\n",
    "import torchvision.transforms as transforms\n",
    "import matplotlib.pyplot as plt\n",
    "import numpy as np"
   ]
  },
  {
   "cell_type": "code",
   "execution_count": 2,
   "id": "0e5873c9",
   "metadata": {
    "execution": {
     "iopub.execute_input": "2022-12-24T17:02:25.401439Z",
     "iopub.status.busy": "2022-12-24T17:02:25.400798Z",
     "iopub.status.idle": "2022-12-24T17:02:25.434620Z",
     "shell.execute_reply": "2022-12-24T17:02:25.433754Z"
    },
    "papermill": {
     "duration": 0.053183,
     "end_time": "2022-12-24T17:02:25.436842",
     "exception": false,
     "start_time": "2022-12-24T17:02:25.383659",
     "status": "completed"
    },
    "tags": []
   },
   "outputs": [],
   "source": [
    "# My additional imports and magics & stuff\n",
    "%matplotlib inline\n",
    "%config InlineBackend.figure_format = 'retina'\n",
    "\n",
    "from torchvision import datasets, models, transforms\n",
    "from torch.utils.data.dataloader import DataLoader\n",
    "import time\n",
    "import os\n",
    "import copy\n",
    "from collections import OrderedDict\n",
    "import os\n",
    "plt.ion()   # interactive mode\n",
    "\n",
    "from torchvision.datasets import ImageFolder\n",
    "from torchvision.transforms import ToTensor\n",
    "import tarfile\n",
    "from torchvision.datasets.utils import download_url\n",
    "from torch.utils.data import random_split\n",
    "\n",
    "\n"
   ]
  },
  {
   "cell_type": "markdown",
   "id": "daa4398c",
   "metadata": {
    "papermill": {
     "duration": 0.009799,
     "end_time": "2022-12-24T17:02:25.462905",
     "exception": false,
     "start_time": "2022-12-24T17:02:25.453106",
     "status": "completed"
    },
    "tags": []
   },
   "source": [
    "## Load the Dataset\n",
    "\n",
    "Specify your transforms as a list first.\n",
    "The transforms module is already loaded as `transforms`.\n",
    "\n",
    "CIFAR-10 is fortunately included in the torchvision module.\n",
    "Then, you can create your dataset using the `CIFAR10` object from `torchvision.datasets` ([the documentation is available here](https://pytorch.org/docs/stable/torchvision/datasets.html#cifar)).\n",
    "Make sure to specify `download=True`! \n",
    "\n",
    "Once your dataset is created, you'll also need to define a `DataLoader` from the `torch.utils.data` module for both the train and the test set."
   ]
  },
  {
   "cell_type": "markdown",
   "id": "c6788ecc",
   "metadata": {
    "papermill": {
     "duration": 0.009195,
     "end_time": "2022-12-24T17:02:25.481527",
     "exception": false,
     "start_time": "2022-12-24T17:02:25.472332",
     "status": "completed"
    },
    "tags": []
   },
   "source": [
    "Since I'm struggling to put this all together, let's start with images themselves and remove the complexity of using these batches and pytorch objects, as they are just one more thing that can go wrong and aren't necessary."
   ]
  },
  {
   "cell_type": "code",
   "execution_count": 3,
   "id": "036d54d5",
   "metadata": {
    "execution": {
     "iopub.execute_input": "2022-12-24T17:02:25.501446Z",
     "iopub.status.busy": "2022-12-24T17:02:25.501167Z",
     "iopub.status.idle": "2022-12-24T17:02:30.479327Z",
     "shell.execute_reply": "2022-12-24T17:02:30.478341Z"
    },
    "papermill": {
     "duration": 4.990917,
     "end_time": "2022-12-24T17:02:30.481813",
     "exception": false,
     "start_time": "2022-12-24T17:02:25.490896",
     "status": "completed"
    },
    "tags": []
   },
   "outputs": [
    {
     "name": "stdout",
     "output_type": "stream",
     "text": [
      "Downloading https://s3.amazonaws.com/fast-ai-imageclas/cifar10.tgz to ./cifar10.tgz\n"
     ]
    },
    {
     "data": {
      "application/vnd.jupyter.widget-view+json": {
       "model_id": "441af13b21a94f7eb38dd4cef84d5b6c",
       "version_major": 2,
       "version_minor": 0
      },
      "text/plain": [
       "  0%|          | 0/135107811 [00:00<?, ?it/s]"
      ]
     },
     "metadata": {},
     "output_type": "display_data"
    }
   ],
   "source": [
    "# Dowload the dataset\n",
    "dataset_url = \"https://s3.amazonaws.com/fast-ai-imageclas/cifar10.tgz\"\n",
    "download_url(dataset_url, '.')"
   ]
  },
  {
   "cell_type": "code",
   "execution_count": 4,
   "id": "d18f25ce",
   "metadata": {
    "execution": {
     "iopub.execute_input": "2022-12-24T17:02:30.503136Z",
     "iopub.status.busy": "2022-12-24T17:02:30.502152Z",
     "iopub.status.idle": "2022-12-24T17:02:43.053869Z",
     "shell.execute_reply": "2022-12-24T17:02:43.052788Z"
    },
    "papermill": {
     "duration": 12.564797,
     "end_time": "2022-12-24T17:02:43.056452",
     "exception": false,
     "start_time": "2022-12-24T17:02:30.491655",
     "status": "completed"
    },
    "tags": []
   },
   "outputs": [],
   "source": [
    "# Extract the data from tar file:\n",
    "with tarfile.open('./cifar10.tgz', 'r:gz') as tar:\n",
    "    tar.extractall(path='./data')"
   ]
  },
  {
   "cell_type": "code",
   "execution_count": 5,
   "id": "b12c258e",
   "metadata": {
    "execution": {
     "iopub.execute_input": "2022-12-24T17:02:43.078380Z",
     "iopub.status.busy": "2022-12-24T17:02:43.076714Z",
     "iopub.status.idle": "2022-12-24T17:02:43.083577Z",
     "shell.execute_reply": "2022-12-24T17:02:43.082528Z"
    },
    "papermill": {
     "duration": 0.019872,
     "end_time": "2022-12-24T17:02:43.086015",
     "exception": false,
     "start_time": "2022-12-24T17:02:43.066143",
     "status": "completed"
    },
    "tags": []
   },
   "outputs": [
    {
     "name": "stdout",
     "output_type": "stream",
     "text": [
      "['train', 'test']\n",
      "['ship', 'automobile', 'horse', 'bird', 'truck', 'frog', 'cat', 'airplane', 'deer', 'dog']\n"
     ]
    }
   ],
   "source": [
    "# verifying the data is there:\n",
    "\n",
    "data_dir = './data/cifar10'\n",
    "\n",
    "print(os.listdir(data_dir))\n",
    "classes_list = os.listdir(data_dir + \"/train\")\n",
    "print(classes_list)"
   ]
  },
  {
   "cell_type": "code",
   "execution_count": 6,
   "id": "c7ccb43a",
   "metadata": {
    "execution": {
     "iopub.execute_input": "2022-12-24T17:02:43.106241Z",
     "iopub.status.busy": "2022-12-24T17:02:43.105487Z",
     "iopub.status.idle": "2022-12-24T17:02:43.112164Z",
     "shell.execute_reply": "2022-12-24T17:02:43.110763Z"
    },
    "papermill": {
     "duration": 0.018913,
     "end_time": "2022-12-24T17:02:43.114255",
     "exception": false,
     "start_time": "2022-12-24T17:02:43.095342",
     "status": "completed"
    },
    "tags": []
   },
   "outputs": [
    {
     "name": "stdout",
     "output_type": "stream",
     "text": [
      "No. of test examples for ship: 1000\n",
      "['0690.png', '0038.png', '0919.png', '0061.png', '0798.png']\n"
     ]
    }
   ],
   "source": [
    "ship_test_files = os.listdir(data_dir + \"/test/ship\")\n",
    "print(\"No. of test examples for ship:\", len(ship_test_files))\n",
    "print(ship_test_files[:5])"
   ]
  },
  {
   "cell_type": "code",
   "execution_count": 7,
   "id": "9be190b0",
   "metadata": {
    "execution": {
     "iopub.execute_input": "2022-12-24T17:02:43.134905Z",
     "iopub.status.busy": "2022-12-24T17:02:43.134097Z",
     "iopub.status.idle": "2022-12-24T17:02:43.305703Z",
     "shell.execute_reply": "2022-12-24T17:02:43.304824Z"
    },
    "papermill": {
     "duration": 0.184179,
     "end_time": "2022-12-24T17:02:43.307895",
     "exception": false,
     "start_time": "2022-12-24T17:02:43.123716",
     "status": "completed"
    },
    "tags": []
   },
   "outputs": [],
   "source": [
    "dataset = ImageFolder(data_dir+'/train', transform=ToTensor())"
   ]
  },
  {
   "cell_type": "markdown",
   "id": "3254ba66",
   "metadata": {
    "papermill": {
     "duration": 0.009319,
     "end_time": "2022-12-24T17:02:43.326771",
     "exception": false,
     "start_time": "2022-12-24T17:02:43.317452",
     "status": "completed"
    },
    "tags": []
   },
   "source": [
    "Each element of this dataset contains an image tensor and a label. The images are 3-channels with dimensions of 32x32, so the expected tensor shape for each image will 3, 32, 32. The labels should just be a 1-dimensional tensor, but let's pick out an element to check that this is what we really have:"
   ]
  },
  {
   "cell_type": "code",
   "execution_count": 8,
   "id": "d9772980",
   "metadata": {
    "execution": {
     "iopub.execute_input": "2022-12-24T17:02:43.352021Z",
     "iopub.status.busy": "2022-12-24T17:02:43.351328Z",
     "iopub.status.idle": "2022-12-24T17:02:43.385358Z",
     "shell.execute_reply": "2022-12-24T17:02:43.384402Z"
    },
    "papermill": {
     "duration": 0.051834,
     "end_time": "2022-12-24T17:02:43.388020",
     "exception": false,
     "start_time": "2022-12-24T17:02:43.336186",
     "status": "completed"
    },
    "tags": []
   },
   "outputs": [
    {
     "name": "stdout",
     "output_type": "stream",
     "text": [
      "torch.Size([3, 32, 32]) 0\n"
     ]
    },
    {
     "data": {
      "text/plain": [
       "tensor([[[0.4431, 0.4314, 0.4353,  ..., 0.6039, 0.6431, 0.6745],\n",
       "         [0.4471, 0.4314, 0.4353,  ..., 0.6667, 0.6235, 0.6314],\n",
       "         [0.4588, 0.4549, 0.4471,  ..., 0.4902, 0.4471, 0.5294],\n",
       "         ...,\n",
       "         [0.2039, 0.2039, 0.2000,  ..., 0.6902, 0.6745, 0.6784],\n",
       "         [0.1765, 0.1804, 0.2000,  ..., 0.6745, 0.6784, 0.6863],\n",
       "         [0.1882, 0.2000, 0.2235,  ..., 0.6784, 0.6745, 0.6863]],\n",
       "\n",
       "        [[0.3843, 0.3725, 0.3725,  ..., 0.5961, 0.6431, 0.6745],\n",
       "         [0.3804, 0.3686, 0.3725,  ..., 0.6549, 0.6196, 0.6275],\n",
       "         [0.3765, 0.3804, 0.3765,  ..., 0.4784, 0.4392, 0.5216],\n",
       "         ...,\n",
       "         [0.2039, 0.1961, 0.1843,  ..., 0.6627, 0.6549, 0.6588],\n",
       "         [0.1882, 0.1804, 0.1961,  ..., 0.6510, 0.6549, 0.6667],\n",
       "         [0.2039, 0.2039, 0.2235,  ..., 0.6588, 0.6510, 0.6667]],\n",
       "\n",
       "        [[0.2706, 0.2588, 0.2627,  ..., 0.6078, 0.6510, 0.6824],\n",
       "         [0.2706, 0.2627, 0.2706,  ..., 0.6667, 0.6314, 0.6392],\n",
       "         [0.2588, 0.2745, 0.2706,  ..., 0.4902, 0.4510, 0.5333],\n",
       "         ...,\n",
       "         [0.1922, 0.2039, 0.2078,  ..., 0.6941, 0.6863, 0.6902],\n",
       "         [0.1843, 0.1843, 0.2078,  ..., 0.6784, 0.6863, 0.6941],\n",
       "         [0.2000, 0.2039, 0.2235,  ..., 0.6863, 0.6784, 0.6902]]])"
      ]
     },
     "execution_count": 8,
     "metadata": {},
     "output_type": "execute_result"
    }
   ],
   "source": [
    "img, label = dataset[7]\n",
    "print(img.shape, label)\n",
    "img"
   ]
  },
  {
   "cell_type": "code",
   "execution_count": 9,
   "id": "1d2b7060",
   "metadata": {
    "execution": {
     "iopub.execute_input": "2022-12-24T17:02:43.436721Z",
     "iopub.status.busy": "2022-12-24T17:02:43.435489Z",
     "iopub.status.idle": "2022-12-24T17:02:43.449487Z",
     "shell.execute_reply": "2022-12-24T17:02:43.446728Z"
    },
    "papermill": {
     "duration": 0.042375,
     "end_time": "2022-12-24T17:02:43.456662",
     "exception": false,
     "start_time": "2022-12-24T17:02:43.414287",
     "status": "completed"
    },
    "tags": []
   },
   "outputs": [
    {
     "name": "stdout",
     "output_type": "stream",
     "text": [
      "['airplane', 'automobile', 'bird', 'cat', 'deer', 'dog', 'frog', 'horse', 'ship', 'truck']\n"
     ]
    }
   ],
   "source": [
    "print(dataset.classes) #this is a property of the dataset"
   ]
  },
  {
   "cell_type": "code",
   "execution_count": null,
   "id": "529c6364",
   "metadata": {
    "papermill": {
     "duration": 0.032584,
     "end_time": "2022-12-24T17:02:43.516209",
     "exception": false,
     "start_time": "2022-12-24T17:02:43.483625",
     "status": "completed"
    },
    "tags": []
   },
   "outputs": [],
   "source": []
  },
  {
   "cell_type": "markdown",
   "id": "9de95bec",
   "metadata": {
    "papermill": {
     "duration": 0.031744,
     "end_time": "2022-12-24T17:02:43.590392",
     "exception": false,
     "start_time": "2022-12-24T17:02:43.558648",
     "status": "completed"
    },
    "tags": []
   },
   "source": [
    "## Explore the Dataset\n",
    "Using matplotlib, numpy, and torch, explore the dimensions of your data.\n",
    "\n",
    "You can view images using the `show5` function defined below – it takes a data loader as an argument.\n",
    "Remember that normalized images will look really weird to you! You may want to try changing your transforms to view images.\n",
    "Typically using no transforms other than `toTensor()` works well for viewing – but not as well for training your network.\n",
    "If `show5` doesn't work, go back and check your code for creating your data loaders and your training/test sets."
   ]
  },
  {
   "cell_type": "code",
   "execution_count": 10,
   "id": "21b2bb26",
   "metadata": {
    "execution": {
     "iopub.execute_input": "2022-12-24T17:02:43.669348Z",
     "iopub.status.busy": "2022-12-24T17:02:43.668829Z",
     "iopub.status.idle": "2022-12-24T17:02:43.685478Z",
     "shell.execute_reply": "2022-12-24T17:02:43.683655Z"
    },
    "papermill": {
     "duration": 0.063123,
     "end_time": "2022-12-24T17:02:43.691576",
     "exception": false,
     "start_time": "2022-12-24T17:02:43.628453",
     "status": "completed"
    },
    "tags": []
   },
   "outputs": [],
   "source": [
    "# Function to change the image tensor to (32, 32, 3) for viewing and also adds the label and displayes the image.\n",
    "def show_example(img, label):\n",
    "    print('Label: ', dataset.classes[label], \"(\"+str(label)+\")\")\n",
    "    plt.imshow(img.permute(1, 2, 0))"
   ]
  },
  {
   "cell_type": "code",
   "execution_count": 11,
   "id": "51c55b8e",
   "metadata": {
    "execution": {
     "iopub.execute_input": "2022-12-24T17:02:43.768066Z",
     "iopub.status.busy": "2022-12-24T17:02:43.767586Z",
     "iopub.status.idle": "2022-12-24T17:02:44.188936Z",
     "shell.execute_reply": "2022-12-24T17:02:44.188006Z"
    },
    "papermill": {
     "duration": 0.460896,
     "end_time": "2022-12-24T17:02:44.191001",
     "exception": false,
     "start_time": "2022-12-24T17:02:43.730105",
     "status": "completed"
    },
    "tags": []
   },
   "outputs": [
    {
     "name": "stdout",
     "output_type": "stream",
     "text": [
      "Label:  automobile (1)\n"
     ]
    },
    {
     "data": {
      "image/png": "[encoded data removed]",
      "text/plain": [
       "<Figure size 432x288 with 1 Axes>"
      ]
     },
     "metadata": {
      "image/png": {
       "height": 248,
       "width": 251
      },
      "needs_background": "light"
     },
     "output_type": "display_data"
    }
   ],
   "source": [
    "show_example(*dataset[5499])"
   ]
  },
  {
   "cell_type": "markdown",
   "id": "35b4a74c",
   "metadata": {
    "papermill": {
     "duration": 0.009788,
     "end_time": "2022-12-24T17:02:44.211272",
     "exception": false,
     "start_time": "2022-12-24T17:02:44.201484",
     "status": "completed"
    },
    "tags": []
   },
   "source": [
    "## Splitting Training and Validation Sets\n",
    "\n",
    "We need make sure we have sets for training, validation and testing. The test set was already done as part of the download. But we can pull out 5000 images from the training set randomly and use that for the validation during training."
   ]
  },
  {
   "cell_type": "code",
   "execution_count": 12,
   "id": "b1c47c44",
   "metadata": {
    "execution": {
     "iopub.execute_input": "2022-12-24T17:02:44.232990Z",
     "iopub.status.busy": "2022-12-24T17:02:44.232094Z",
     "iopub.status.idle": "2022-12-24T17:02:44.238866Z",
     "shell.execute_reply": "2022-12-24T17:02:44.238035Z"
    },
    "papermill": {
     "duration": 0.019669,
     "end_time": "2022-12-24T17:02:44.240845",
     "exception": false,
     "start_time": "2022-12-24T17:02:44.221176",
     "status": "completed"
    },
    "tags": []
   },
   "outputs": [],
   "source": [
    "random_seed = 42\n",
    "torch.manual_seed(random_seed);"
   ]
  },
  {
   "cell_type": "code",
   "execution_count": 13,
   "id": "0165ba2c",
   "metadata": {
    "execution": {
     "iopub.execute_input": "2022-12-24T17:02:44.262744Z",
     "iopub.status.busy": "2022-12-24T17:02:44.261959Z",
     "iopub.status.idle": "2022-12-24T17:02:44.272473Z",
     "shell.execute_reply": "2022-12-24T17:02:44.271522Z"
    },
    "papermill": {
     "duration": 0.023407,
     "end_time": "2022-12-24T17:02:44.274519",
     "exception": false,
     "start_time": "2022-12-24T17:02:44.251112",
     "status": "completed"
    },
    "tags": []
   },
   "outputs": [
    {
     "data": {
      "text/plain": [
       "(45000, 5000)"
      ]
     },
     "execution_count": 13,
     "metadata": {},
     "output_type": "execute_result"
    }
   ],
   "source": [
    "validation_size = 5000\n",
    "train_size = len(dataset) - validation_size\n",
    "\n",
    "train_ds, val_ds = random_split(dataset, [train_size, validation_size])\n",
    "len(train_ds), len(val_ds)"
   ]
  },
  {
   "cell_type": "markdown",
   "id": "a456fd04",
   "metadata": {
    "papermill": {
     "duration": 0.009767,
     "end_time": "2022-12-24T17:02:44.294345",
     "exception": false,
     "start_time": "2022-12-24T17:02:44.284578",
     "status": "completed"
    },
    "tags": []
   },
   "source": [
    "Now create the data loaders for each of the sets (train_ds and val_ds), so that we can load data in batches."
   ]
  },
  {
   "cell_type": "code",
   "execution_count": 14,
   "id": "061d7168",
   "metadata": {
    "execution": {
     "iopub.execute_input": "2022-12-24T17:02:44.315967Z",
     "iopub.status.busy": "2022-12-24T17:02:44.315184Z",
     "iopub.status.idle": "2022-12-24T17:02:44.323529Z",
     "shell.execute_reply": "2022-12-24T17:02:44.321954Z"
    },
    "papermill": {
     "duration": 0.021202,
     "end_time": "2022-12-24T17:02:44.325582",
     "exception": false,
     "start_time": "2022-12-24T17:02:44.304380",
     "status": "completed"
    },
    "tags": []
   },
   "outputs": [
    {
     "name": "stderr",
     "output_type": "stream",
     "text": [
      "/opt/conda/lib/python3.7/site-packages/torch/utils/data/dataloader.py:490: UserWarning: This DataLoader will create 4 worker processes in total. Our suggested max number of worker in current system is 2, which is smaller than what this DataLoader is going to create. Please be aware that excessive worker creation might get DataLoader running slow or even freeze, lower the worker number to avoid potential slowness/freeze if necessary.\n",
      "  cpuset_checked))\n"
     ]
    }
   ],
   "source": [
    "batch_size = 128\n",
    "\n",
    "trainloader = DataLoader(train_ds, batch_size, shuffle=True, num_workers=4, pin_memory=True)\n",
    "\n",
    "validloader = DataLoader(val_ds, batch_size*2, num_workers=2, pin_memory=True)"
   ]
  },
  {
   "cell_type": "markdown",
   "id": "4153e140",
   "metadata": {
    "papermill": {
     "duration": 0.009813,
     "end_time": "2022-12-24T17:02:44.345358",
     "exception": false,
     "start_time": "2022-12-24T17:02:44.335545",
     "status": "completed"
    },
    "tags": []
   },
   "source": [
    "## Defining the CNN Model\n",
    "\n",
    "Now that data is ready, we can define the model.\n",
    "\n",
    "Some notes about planning this out:\n",
    "* Since our images have 3 channels, we need a kernel for each channel and keeping in mind that the outputs are added together pixel-wise. We'll use Conv2d to transform our 3-channel images to a 16-channel feature map.\n",
    "* The model needs to have max-pooling layers to reduce the sizes of the output from each convolutional layer. We'll use MaxPool2d which will cut the feature map in half each time.\n",
    "* Finally, we'll add fully connected layers at the end to serve as the classifier part of the model which will take the output of the convolutional part of the model and give us the vector of size 10 (1 per class).\n"
   ]
  },
  {
   "cell_type": "code",
   "execution_count": null,
   "id": "ffdc059e",
   "metadata": {
    "papermill": {
     "duration": 0.010039,
     "end_time": "2022-12-24T17:02:44.365542",
     "exception": false,
     "start_time": "2022-12-24T17:02:44.355503",
     "status": "completed"
    },
    "tags": []
   },
   "outputs": [],
   "source": []
  },
  {
   "cell_type": "markdown",
   "id": "e69742c0",
   "metadata": {
    "papermill": {
     "duration": 0.009951,
     "end_time": "2022-12-24T17:02:44.385574",
     "exception": false,
     "start_time": "2022-12-24T17:02:44.375623",
     "status": "completed"
    },
    "tags": []
   },
   "source": [
    "## Build your Neural Network\n",
    "Using the layers in `torch.nn` (which has been imported as `nn`) and the `torch.nn.functional` module (imported as `F`), construct a neural network based on the parameters of the dataset. \n",
    "Feel free to construct a model of any architecture – feedforward, convolutional, or even something more advanced!"
   ]
  },
  {
   "cell_type": "markdown",
   "id": "58fc37f7",
   "metadata": {
    "papermill": {
     "duration": 0.010007,
     "end_time": "2022-12-24T17:02:44.405766",
     "exception": false,
     "start_time": "2022-12-24T17:02:44.395759",
     "status": "completed"
    },
    "tags": []
   },
   "source": [
    "### Defining the Model & Helper Functions\n",
    "We'll define the model by extending an `ImageClassificationBase`"
   ]
  },
  {
   "cell_type": "code",
   "execution_count": 15,
   "id": "0d493088",
   "metadata": {
    "execution": {
     "iopub.execute_input": "2022-12-24T17:02:44.428538Z",
     "iopub.status.busy": "2022-12-24T17:02:44.427066Z",
     "iopub.status.idle": "2022-12-24T17:02:44.438434Z",
     "shell.execute_reply": "2022-12-24T17:02:44.437614Z"
    },
    "papermill": {
     "duration": 0.024487,
     "end_time": "2022-12-24T17:02:44.440393",
     "exception": false,
     "start_time": "2022-12-24T17:02:44.415906",
     "status": "completed"
    },
    "tags": []
   },
   "outputs": [],
   "source": [
    "class ImageClassificationBase(nn.Module):\n",
    "    # This function executes a training step by generating predictions and calculating loss\n",
    "    def training_step(self, batch):\n",
    "        images, labels = batch\n",
    "        out = self(images)\n",
    "        loss = F.cross_entropy(out, labels)\n",
    "        return loss\n",
    "    \n",
    "    # This function executes the validation step by generating predictions and calculating loss\n",
    "    # on the validation data. It also calculates the accuracy.\n",
    "    def validation_step(self, batch):\n",
    "        images, labels = batch\n",
    "        out = self(images)                    \n",
    "        loss = F.cross_entropy(out, labels)   \n",
    "        acc = accuracy(out, labels)           \n",
    "        return {'val_loss': loss.detach(), 'val_acc': acc} #NOTE: .detach() just keeps the tensor, no gradient info\n",
    "\n",
    "    # This function puts together all the values from each batch: the losses and accuracy, so we have\n",
    "    # just one combined value per epoch.\n",
    "    def validation_epoch_end(self, outputs):\n",
    "        batch_losses = [x['val_loss'] for x in outputs]\n",
    "        epoch_loss = torch.stack(batch_losses).mean()   # Combine losses\n",
    "        batch_accs = [x['val_acc'] for x in outputs]\n",
    "        epoch_acc = torch.stack(batch_accs).mean()      # Combine accuracies\n",
    "        return {'val_loss': epoch_loss.item(), 'val_acc': epoch_acc.item()}\n",
    "    \n",
    "    # This function prints out the model performance for each epoch so we can track it:\n",
    "    def epoch_end(self, epochs, result):\n",
    "        print(\"Epoch [{}], train_loss: {:.4f}, val_loss: {:.4f}, val_acc: {:.4f}\".format(\n",
    "            epochs, result['train_loss'], result['val_loss'], result['val_acc']))\n",
    "\n",
    "        # This function gives an overall percentage accuracy for the model (percent of predictions that were right)\n",
    "def accuracy(outputs, labels):\n",
    "    _, preds = torch.max(outputs, dim=1)\n",
    "    return torch.tensor(torch.sum(preds == labels).item() / len(preds))\n",
    "    \n",
    "    "
   ]
  },
  {
   "cell_type": "markdown",
   "id": "f5a52213",
   "metadata": {
    "papermill": {
     "duration": 0.010151,
     "end_time": "2022-12-24T17:02:44.460937",
     "exception": false,
     "start_time": "2022-12-24T17:02:44.450786",
     "status": "completed"
    },
    "tags": []
   },
   "source": [
    "\n"
   ]
  },
  {
   "cell_type": "markdown",
   "id": "d53b8820",
   "metadata": {
    "papermill": {
     "duration": 0.010614,
     "end_time": "2022-12-24T17:02:44.482384",
     "exception": false,
     "start_time": "2022-12-24T17:02:44.471770",
     "status": "completed"
    },
    "tags": []
   },
   "source": [
    "### Put together all the layers into one Network\n",
    "\n",
    "this network architecture is attributed to excellent tutorial by Shadab Hussain on Kaggle [here](https://www.kaggle.com/code/shadabhussain/cifar-10-cnn-using-pytorch)."
   ]
  },
  {
   "cell_type": "code",
   "execution_count": 16,
   "id": "81e068c2",
   "metadata": {
    "execution": {
     "iopub.execute_input": "2022-12-24T17:02:44.505344Z",
     "iopub.status.busy": "2022-12-24T17:02:44.504536Z",
     "iopub.status.idle": "2022-12-24T17:02:44.572522Z",
     "shell.execute_reply": "2022-12-24T17:02:44.571493Z"
    },
    "papermill": {
     "duration": 0.081504,
     "end_time": "2022-12-24T17:02:44.574515",
     "exception": false,
     "start_time": "2022-12-24T17:02:44.493011",
     "status": "completed"
    },
    "tags": []
   },
   "outputs": [
    {
     "data": {
      "text/plain": [
       "TutorialModel(\n",
       "  (network): Sequential(\n",
       "    (0): Conv2d(3, 32, kernel_size=(3, 3), stride=(1, 1), padding=(1, 1))\n",
       "    (1): ReLU()\n",
       "    (2): Conv2d(32, 64, kernel_size=(3, 3), stride=(1, 1), padding=(1, 1))\n",
       "    (3): ReLU()\n",
       "    (4): MaxPool2d(kernel_size=2, stride=2, padding=0, dilation=1, ceil_mode=False)\n",
       "    (5): Conv2d(64, 128, kernel_size=(3, 3), stride=(1, 1), padding=(1, 1))\n",
       "    (6): ReLU()\n",
       "    (7): Conv2d(128, 128, kernel_size=(3, 3), stride=(1, 1), padding=(1, 1))\n",
       "    (8): ReLU()\n",
       "    (9): MaxPool2d(kernel_size=2, stride=2, padding=0, dilation=1, ceil_mode=False)\n",
       "    (10): Conv2d(128, 256, kernel_size=(3, 3), stride=(1, 1), padding=(1, 1))\n",
       "    (11): ReLU()\n",
       "    (12): Conv2d(256, 256, kernel_size=(3, 3), stride=(1, 1), padding=(1, 1))\n",
       "    (13): ReLU()\n",
       "    (14): MaxPool2d(kernel_size=2, stride=2, padding=0, dilation=1, ceil_mode=False)\n",
       "    (15): Flatten(start_dim=1, end_dim=-1)\n",
       "    (16): Linear(in_features=4096, out_features=1024, bias=True)\n",
       "    (17): ReLU()\n",
       "    (18): Linear(in_features=1024, out_features=512, bias=True)\n",
       "    (19): ReLU()\n",
       "    (20): Linear(in_features=512, out_features=10, bias=True)\n",
       "  )\n",
       ")"
      ]
     },
     "execution_count": 16,
     "metadata": {},
     "output_type": "execute_result"
    }
   ],
   "source": [
    "class TutorialModel(ImageClassificationBase):\n",
    "    def __init__(self):\n",
    "        super().__init__()\n",
    "        self.network = nn.Sequential(\n",
    "            nn.Conv2d(3, 32, kernel_size=3, padding=1),\n",
    "            nn.ReLU(),\n",
    "            nn.Conv2d(32, 64, kernel_size=3, stride=1, padding=1),\n",
    "            nn.ReLU(),\n",
    "            nn.MaxPool2d(2, 2), # output: 64 x 16 x 16\n",
    "\n",
    "            nn.Conv2d(64, 128, kernel_size=3, stride=1, padding=1),\n",
    "            nn.ReLU(),\n",
    "            nn.Conv2d(128, 128, kernel_size=3, stride=1, padding=1),\n",
    "            nn.ReLU(),\n",
    "            nn.MaxPool2d(2, 2), # output: 128 x 8 x 8\n",
    "\n",
    "            nn.Conv2d(128, 256, kernel_size=3, stride=1, padding=1),\n",
    "            nn.ReLU(),\n",
    "            nn.Conv2d(256, 256, kernel_size=3, stride=1, padding=1),\n",
    "            nn.ReLU(),\n",
    "            nn.MaxPool2d(2, 2), # output: 256 x 4 x 4\n",
    "\n",
    "            nn.Flatten(), \n",
    "            nn.Linear(256*4*4, 1024),\n",
    "            nn.ReLU(),\n",
    "            nn.Linear(1024, 512),\n",
    "            nn.ReLU(),\n",
    "            nn.Linear(512, 10))\n",
    "        \n",
    "    def forward(self, xb):\n",
    "        return self.network(xb)\n",
    "    \n",
    "#''''''Look at the model:''''''\n",
    "model = TutorialModel()\n",
    "model"
   ]
  },
  {
   "cell_type": "code",
   "execution_count": 17,
   "id": "8d5bb3b2",
   "metadata": {
    "execution": {
     "iopub.execute_input": "2022-12-24T17:02:44.596616Z",
     "iopub.status.busy": "2022-12-24T17:02:44.595847Z",
     "iopub.status.idle": "2022-12-24T17:02:48.775437Z",
     "shell.execute_reply": "2022-12-24T17:02:48.774333Z"
    },
    "papermill": {
     "duration": 4.193043,
     "end_time": "2022-12-24T17:02:48.777881",
     "exception": false,
     "start_time": "2022-12-24T17:02:44.584838",
     "status": "completed"
    },
    "tags": []
   },
   "outputs": [
    {
     "name": "stdout",
     "output_type": "stream",
     "text": [
      "images.shape: torch.Size([128, 3, 32, 32])\n",
      "out.shape: torch.Size([128, 10])\n",
      "out[0]: tensor([-0.0196,  0.0411, -0.0260, -0.0372,  0.0459, -0.0270, -0.0140,  0.0326,\n",
      "         0.0288,  0.0188], grad_fn=<SelectBackward0>)\n"
     ]
    }
   ],
   "source": [
    "# Checking that the model output is in the shape we expect.\n",
    "# each batch from the trainloader has 128 images and each is a 3, 32, 32 tensor.\n",
    "# the model should output a vector with 10 elements\n",
    "for images, labels in trainloader:\n",
    "    print('images.shape:', images.shape)\n",
    "    out = model(images)\n",
    "    print('out.shape:', out.shape)\n",
    "    print('out[0]:', out[0])\n",
    "    break"
   ]
  },
  {
   "cell_type": "markdown",
   "id": "991bc993",
   "metadata": {
    "papermill": {
     "duration": 0.02528,
     "end_time": "2022-12-24T17:02:48.815045",
     "exception": false,
     "start_time": "2022-12-24T17:02:48.789765",
     "status": "completed"
    },
    "tags": []
   },
   "source": [
    "Specify a loss function and an optimizer, and instantiate the model.\n",
    "\n",
    "If you use a less common loss function, please note why you chose that loss function in a comment."
   ]
  },
  {
   "cell_type": "markdown",
   "id": "96dda3b6",
   "metadata": {
    "papermill": {
     "duration": 0.013025,
     "end_time": "2022-12-24T17:02:48.844581",
     "exception": false,
     "start_time": "2022-12-24T17:02:48.831556",
     "status": "completed"
    },
    "tags": []
   },
   "source": [
    "## Running your Neural Network\n",
    "Use whatever method you like to train your neural network, and ensure you record the average loss at each epoch. \n",
    "Don't forget to use `torch.device()` and the `.to()` method for both your model and your data if you are using GPU!\n",
    "\n",
    "If you want to print your loss during each epoch, you can use the `enumerate` function and print the loss after a set number of batches. 250 batches works well for most people!"
   ]
  },
  {
   "cell_type": "markdown",
   "id": "be310df8",
   "metadata": {
    "papermill": {
     "duration": 0.011202,
     "end_time": "2022-12-24T17:02:48.866846",
     "exception": false,
     "start_time": "2022-12-24T17:02:48.855644",
     "status": "completed"
    },
    "tags": []
   },
   "source": [
    "#### Wrapping the data and the model reliably based on where the notebook will run:\n",
    "Handy borrowed helpers to make sure the data and model get moved to GPU (or not) as needed.\n",
    "This code came from excellent tutorial by Shadab Husain on Kaggle [here](https://www.kaggle.com/code/shadabhussain/cifar-10-cnn-using-pytorch)\n"
   ]
  },
  {
   "cell_type": "code",
   "execution_count": 18,
   "id": "d3e0c8de",
   "metadata": {
    "execution": {
     "iopub.execute_input": "2022-12-24T17:02:48.889762Z",
     "iopub.status.busy": "2022-12-24T17:02:48.889378Z",
     "iopub.status.idle": "2022-12-24T17:02:48.898422Z",
     "shell.execute_reply": "2022-12-24T17:02:48.897442Z"
    },
    "papermill": {
     "duration": 0.023068,
     "end_time": "2022-12-24T17:02:48.900480",
     "exception": false,
     "start_time": "2022-12-24T17:02:48.877412",
     "status": "completed"
    },
    "tags": []
   },
   "outputs": [],
   "source": [
    "def get_default_device():\n",
    "    \"\"\"Pick GPU if available, else CPU\"\"\"\n",
    "    if torch.cuda.is_available():\n",
    "        return torch.device('cuda')\n",
    "    else:\n",
    "        return torch.device('cpu')\n",
    "    \n",
    "def to_device(data, device):\n",
    "    \"\"\"Move tensor(s) to chosen device\"\"\"\n",
    "    if isinstance(data, (list,tuple)):\n",
    "        return [to_device(x, device) for x in data]\n",
    "    return data.to(device, non_blocking=True)\n",
    "\n",
    "class DeviceDataLoader():\n",
    "    \"\"\"Wrap a dataloader to move data to a device\"\"\"\n",
    "    def __init__(self, dl, device):\n",
    "        self.dl = dl\n",
    "        self.device = device\n",
    "        \n",
    "    def __iter__(self):\n",
    "        \"\"\"Yield a batch of data after moving it to device\"\"\"\n",
    "        for b in self.dl: \n",
    "            yield to_device(b, self.device)\n",
    "\n",
    "    def __len__(self):\n",
    "        \"\"\"Number of batches\"\"\"\n",
    "        return len(self.dl)\n",
    "    "
   ]
  },
  {
   "cell_type": "code",
   "execution_count": 19,
   "id": "b7633ed6",
   "metadata": {
    "execution": {
     "iopub.execute_input": "2022-12-24T17:02:48.923505Z",
     "iopub.status.busy": "2022-12-24T17:02:48.922553Z",
     "iopub.status.idle": "2022-12-24T17:02:48.941251Z",
     "shell.execute_reply": "2022-12-24T17:02:48.940297Z"
    },
    "papermill": {
     "duration": 0.032403,
     "end_time": "2022-12-24T17:02:48.943535",
     "exception": false,
     "start_time": "2022-12-24T17:02:48.911132",
     "status": "completed"
    },
    "tags": []
   },
   "outputs": [
    {
     "name": "stdout",
     "output_type": "stream",
     "text": [
      "cuda\n"
     ]
    }
   ],
   "source": [
    "# set device based on where the notebook is running:\n",
    "device = get_default_device()\n",
    "print(device)\n",
    "\n",
    "\n",
    "# Wrap the data loaders so that the data and models get moved to the appropriate place:\n",
    "trainloader = DeviceDataLoader(trainloader, device)\n",
    "validloader = DeviceDataLoader(validloader, device)\n",
    "to_device(model, device);"
   ]
  },
  {
   "cell_type": "markdown",
   "id": "14a3e665",
   "metadata": {
    "papermill": {
     "duration": 0.010341,
     "end_time": "2022-12-24T17:02:48.964370",
     "exception": false,
     "start_time": "2022-12-24T17:02:48.954029",
     "status": "completed"
    },
    "tags": []
   },
   "source": [
    "## Training the Model\n",
    "Recall the helper functions we created when defining the model:\n",
    "* training_step(self, batch) - takes the model and batch of images and returns loss\n",
    "* validation_step(self, batch) - takes the model and batch of images and returns loss and accuracy for the step\n",
    "* validation_epoch_end(self, outputs) - combines the losses and accuracy scores for the whole epoch\n",
    "* epoch_end(self, epoch, result) - prints out the epoch's training loss, validation loss and accuracy score\n",
    "* accuracy(outputs, labels) - compares the prediction to the actual label and computes the average number that were correct."
   ]
  },
  {
   "cell_type": "code",
   "execution_count": 20,
   "id": "2ee661f1",
   "metadata": {
    "execution": {
     "iopub.execute_input": "2022-12-24T17:02:48.987648Z",
     "iopub.status.busy": "2022-12-24T17:02:48.986770Z",
     "iopub.status.idle": "2022-12-24T17:02:48.994703Z",
     "shell.execute_reply": "2022-12-24T17:02:48.993879Z"
    },
    "papermill": {
     "duration": 0.021598,
     "end_time": "2022-12-24T17:02:48.996631",
     "exception": false,
     "start_time": "2022-12-24T17:02:48.975033",
     "status": "completed"
    },
    "tags": []
   },
   "outputs": [],
   "source": [
    "# Define a function called evaluate that will be used to take a batch from validation data,\n",
    "# apply the model and return the loss and accuracy for the step and for the epoch overall\n",
    "\n",
    "@torch.no_grad()\n",
    "def evaluate(model, val_loader):\n",
    "    model.eval()\n",
    "    outputs = [model.validation_step(batch) for batch in val_loader]\n",
    "    return model.validation_epoch_end(outputs)\n",
    "\n",
    "# Define a function called fit that will be used for training/validation/seeing training progress:\n",
    "def fit(epochs, learn_rate, model, trainloader, validloader, optimizer):\n",
    "    progress = []\n",
    "    optimizer = optimizer\n",
    "    for e in range(epochs):\n",
    "        # Training Phase\n",
    "        model.train()\n",
    "        train_losses = []\n",
    "        for batch in trainloader:\n",
    "            loss = model.training_step(batch)\n",
    "            train_losses.append(loss)\n",
    "            loss.backward()\n",
    "            optimizer.step()\n",
    "            optimizer.zero_grad()\n",
    "        # Validation Phase\n",
    "        result = evaluate(model, validloader)\n",
    "        result['train_loss'] = torch.stack(train_losses).mean().item()\n",
    "        model.epoch_end(epochs, result)\n",
    "        progress.append(result)\n",
    "    return progress"
   ]
  },
  {
   "cell_type": "code",
   "execution_count": 21,
   "id": "c7127b09",
   "metadata": {
    "execution": {
     "iopub.execute_input": "2022-12-24T17:02:49.022675Z",
     "iopub.status.busy": "2022-12-24T17:02:49.021931Z",
     "iopub.status.idle": "2022-12-24T17:02:49.083935Z",
     "shell.execute_reply": "2022-12-24T17:02:49.082889Z"
    },
    "papermill": {
     "duration": 0.076764,
     "end_time": "2022-12-24T17:02:49.087452",
     "exception": false,
     "start_time": "2022-12-24T17:02:49.010688",
     "status": "completed"
    },
    "tags": []
   },
   "outputs": [
    {
     "name": "stdout",
     "output_type": "stream",
     "text": [
      "Loss Function:  CrossEntropyLoss()\n",
      "Optimization Function:  Adam (\n",
      "Parameter Group 0\n",
      "    amsgrad: False\n",
      "    betas: (0.9, 0.999)\n",
      "    eps: 1e-08\n",
      "    lr: 0.001\n",
      "    maximize: False\n",
      "    weight_decay: 0\n",
      ")\n",
      "Learning Rate:  0.001\n"
     ]
    }
   ],
   "source": [
    "model = to_device(TutorialModel(), device)\n",
    "\n",
    "epochs = 10\n",
    "learn_rate = 0.001\n",
    "\n",
    "# Loss function:\n",
    "criterion = nn.CrossEntropyLoss()\n",
    "\n",
    "# Optimizer:\n",
    "optimizer = optim.Adam(model.parameters(), lr=learn_rate)\n",
    "\n",
    "#What are our hp's (just to minimize scrolling)\n",
    "print('Loss Function: ', criterion)\n",
    "print('Optimization Function: ', optimizer)\n",
    "print('Learning Rate: ', learn_rate)"
   ]
  },
  {
   "cell_type": "code",
   "execution_count": null,
   "id": "85b3b5c6",
   "metadata": {
    "papermill": {
     "duration": 0.014415,
     "end_time": "2022-12-24T17:02:49.113433",
     "exception": false,
     "start_time": "2022-12-24T17:02:49.099018",
     "status": "completed"
    },
    "tags": []
   },
   "outputs": [],
   "source": []
  },
  {
   "cell_type": "markdown",
   "id": "55d7705b",
   "metadata": {
    "papermill": {
     "duration": 0.010511,
     "end_time": "2022-12-24T17:02:49.134990",
     "exception": false,
     "start_time": "2022-12-24T17:02:49.124479",
     "status": "completed"
    },
    "tags": []
   },
   "source": [
    "### Initial model performance\n",
    "Before the training step, see how model performs using the validation set with initial parameters."
   ]
  },
  {
   "cell_type": "code",
   "execution_count": 22,
   "id": "ef9765c1",
   "metadata": {
    "execution": {
     "iopub.execute_input": "2022-12-24T17:02:49.158590Z",
     "iopub.status.busy": "2022-12-24T17:02:49.157729Z",
     "iopub.status.idle": "2022-12-24T17:02:49.222196Z",
     "shell.execute_reply": "2022-12-24T17:02:49.220691Z"
    },
    "papermill": {
     "duration": 0.079143,
     "end_time": "2022-12-24T17:02:49.224890",
     "exception": false,
     "start_time": "2022-12-24T17:02:49.145747",
     "status": "completed"
    },
    "tags": []
   },
   "outputs": [
    {
     "name": "stdout",
     "output_type": "stream",
     "text": [
      "cuda\n"
     ]
    }
   ],
   "source": [
    "model = to_device(TutorialModel(), device)\n",
    "print(device)"
   ]
  },
  {
   "cell_type": "code",
   "execution_count": 23,
   "id": "cc4fb0a1",
   "metadata": {
    "execution": {
     "iopub.execute_input": "2022-12-24T17:02:49.248001Z",
     "iopub.status.busy": "2022-12-24T17:02:49.247731Z",
     "iopub.status.idle": "2022-12-24T17:02:56.846550Z",
     "shell.execute_reply": "2022-12-24T17:02:56.845439Z"
    },
    "papermill": {
     "duration": 7.61289,
     "end_time": "2022-12-24T17:02:56.849009",
     "exception": false,
     "start_time": "2022-12-24T17:02:49.236119",
     "status": "completed"
    },
    "tags": []
   },
   "outputs": [
    {
     "data": {
      "text/plain": [
       "{'val_loss': 2.302921772003174, 'val_acc': 0.10629595816135406}"
      ]
     },
     "execution_count": 23,
     "metadata": {},
     "output_type": "execute_result"
    }
   ],
   "source": [
    "evaluate(model, validloader)"
   ]
  },
  {
   "cell_type": "markdown",
   "id": "6f36d7d1",
   "metadata": {
    "papermill": {
     "duration": 0.010498,
     "end_time": "2022-12-24T17:02:56.870526",
     "exception": false,
     "start_time": "2022-12-24T17:02:56.860028",
     "status": "completed"
    },
    "tags": []
   },
   "source": [
    "As expected, the untrained model's accuracy is about 10% - same as random guessing.\n",
    "\n",
    "Now we can train the model for real. For now, we'll keep the same hyperparameters as are already defined. If the results aren't good, we can change them later."
   ]
  },
  {
   "cell_type": "code",
   "execution_count": 24,
   "id": "51f2ee80",
   "metadata": {
    "execution": {
     "iopub.execute_input": "2022-12-24T17:02:56.892891Z",
     "iopub.status.busy": "2022-12-24T17:02:56.892563Z",
     "iopub.status.idle": "2022-12-24T17:02:56.897993Z",
     "shell.execute_reply": "2022-12-24T17:02:56.897000Z"
    },
    "papermill": {
     "duration": 0.019058,
     "end_time": "2022-12-24T17:02:56.900111",
     "exception": false,
     "start_time": "2022-12-24T17:02:56.881053",
     "status": "completed"
    },
    "tags": []
   },
   "outputs": [],
   "source": [
    "epochs = 10\n",
    "learn_rate = 0.001\n",
    "\n",
    "# Loss function:\n",
    "criterion = nn.CrossEntropyLoss()\n",
    "\n",
    "# Optimizer:\n",
    "optimizer = optim.Adam(model.parameters(), lr=learn_rate)"
   ]
  },
  {
   "cell_type": "code",
   "execution_count": 25,
   "id": "df59ece0",
   "metadata": {
    "execution": {
     "iopub.execute_input": "2022-12-24T17:02:56.922132Z",
     "iopub.status.busy": "2022-12-24T17:02:56.921861Z",
     "iopub.status.idle": "2022-12-24T17:05:38.425167Z",
     "shell.execute_reply": "2022-12-24T17:05:38.419880Z"
    },
    "papermill": {
     "duration": 161.525573,
     "end_time": "2022-12-24T17:05:38.436103",
     "exception": false,
     "start_time": "2022-12-24T17:02:56.910530",
     "status": "completed"
    },
    "tags": []
   },
   "outputs": [
    {
     "name": "stdout",
     "output_type": "stream",
     "text": [
      "Epoch [10], train_loss: 1.7477, val_loss: 1.4137, val_acc: 0.4903\n",
      "Epoch [10], train_loss: 1.2083, val_loss: 1.1335, val_acc: 0.5908\n",
      "Epoch [10], train_loss: 0.9404, val_loss: 0.8926, val_acc: 0.6851\n",
      "Epoch [10], train_loss: 0.7488, val_loss: 0.7951, val_acc: 0.7230\n",
      "Epoch [10], train_loss: 0.6121, val_loss: 0.7244, val_acc: 0.7517\n",
      "Epoch [10], train_loss: 0.4924, val_loss: 0.7310, val_acc: 0.7664\n",
      "Epoch [10], train_loss: 0.3827, val_loss: 0.7498, val_acc: 0.7602\n",
      "Epoch [10], train_loss: 0.2973, val_loss: 0.7842, val_acc: 0.7670\n",
      "Epoch [10], train_loss: 0.2147, val_loss: 0.9093, val_acc: 0.7599\n",
      "Epoch [10], train_loss: 0.1579, val_loss: 1.0195, val_acc: 0.7603\n"
     ]
    }
   ],
   "source": [
    "progress = fit(epochs, learn_rate, model, trainloader, validloader, optimizer)"
   ]
  },
  {
   "cell_type": "markdown",
   "id": "47e6bacb",
   "metadata": {
    "papermill": {
     "duration": 0.011303,
     "end_time": "2022-12-24T17:05:38.459424",
     "exception": false,
     "start_time": "2022-12-24T17:05:38.448121",
     "status": "completed"
    },
    "tags": []
   },
   "source": [
    "Plot the training loss (and validation loss/accuracy, if recorded)."
   ]
  },
  {
   "cell_type": "code",
   "execution_count": 26,
   "id": "6d9a7f93",
   "metadata": {
    "execution": {
     "iopub.execute_input": "2022-12-24T17:05:38.483642Z",
     "iopub.status.busy": "2022-12-24T17:05:38.483292Z",
     "iopub.status.idle": "2022-12-24T17:05:38.791366Z",
     "shell.execute_reply": "2022-12-24T17:05:38.790411Z"
    },
    "papermill": {
     "duration": 0.32253,
     "end_time": "2022-12-24T17:05:38.793371",
     "exception": false,
     "start_time": "2022-12-24T17:05:38.470841",
     "status": "completed"
    },
    "tags": []
   },
   "outputs": [
    {
     "data": {
      "text/plain": [
       "<matplotlib.legend.Legend at 0x7f04d2ed1910>"
      ]
     },
     "execution_count": 26,
     "metadata": {},
     "output_type": "execute_result"
    },
    {
     "data": {
      "image/png": "[encoded data removed]",
      "text/plain": [
       "<Figure size 432x288 with 1 Axes>"
      ]
     },
     "metadata": {
      "image/png": {
       "height": 277,
       "width": 392
      },
      "needs_background": "light"
     },
     "output_type": "display_data"
    }
   ],
   "source": [
    "## YOUR CODE HERE ##\n",
    "%matplotlib inline\n",
    "%config InlineBackend.figure_format = 'retina'\n",
    "\n",
    "import matplotlib.pyplot as plt\n",
    "\n",
    "accuracies = [x['val_acc'] for x in progress]\n",
    "plt.plot(accuracies, '-x')\n",
    "plt.xlabel('epoch')\n",
    "plt.ylabel('accuracy')\n",
    "plt.title('Accuracy vs. No. of epochs');\n",
    "\n",
    "\n",
    "plt.legend(frameon=False)"
   ]
  },
  {
   "cell_type": "code",
   "execution_count": 27,
   "id": "4986ed7d",
   "metadata": {
    "execution": {
     "iopub.execute_input": "2022-12-24T17:05:38.820986Z",
     "iopub.status.busy": "2022-12-24T17:05:38.820162Z",
     "iopub.status.idle": "2022-12-24T17:05:39.137497Z",
     "shell.execute_reply": "2022-12-24T17:05:39.136405Z"
    },
    "papermill": {
     "duration": 0.333587,
     "end_time": "2022-12-24T17:05:39.139586",
     "exception": false,
     "start_time": "2022-12-24T17:05:38.805999",
     "status": "completed"
    },
    "tags": []
   },
   "outputs": [
    {
     "data": {
      "image/png": "[encoded data removed]",
      "text/plain": [
       "<Figure size 432x288 with 1 Axes>"
      ]
     },
     "metadata": {
      "image/png": {
       "height": 277,
       "width": 385
      },
      "needs_background": "light"
     },
     "output_type": "display_data"
    }
   ],
   "source": [
    "train_losses = [x.get('train_loss') for x in progress]\n",
    "val_losses = [x['val_loss'] for x in progress]\n",
    "plt.plot(train_losses, '-bx')\n",
    "plt.plot(val_losses, '-rx')\n",
    "plt.xlabel('epoch')\n",
    "plt.ylabel('loss')\n",
    "plt.legend(['Training', 'Validation'])\n",
    "plt.title('Loss vs. No. of epochs');"
   ]
  },
  {
   "cell_type": "markdown",
   "id": "b3d8e36e",
   "metadata": {
    "papermill": {
     "duration": 0.012167,
     "end_time": "2022-12-24T17:05:39.165132",
     "exception": false,
     "start_time": "2022-12-24T17:05:39.152965",
     "status": "completed"
    },
    "tags": []
   },
   "source": []
  },
  {
   "cell_type": "markdown",
   "id": "a0e324a5",
   "metadata": {
    "papermill": {
     "duration": 0.011991,
     "end_time": "2022-12-24T17:05:39.189475",
     "exception": false,
     "start_time": "2022-12-24T17:05:39.177484",
     "status": "completed"
    },
    "tags": []
   },
   "source": [
    "## Testing your model\n",
    "Using the previously created `DataLoader` for the test set, compute the percentage of correct predictions using the highest probability prediction. \n",
    "\n",
    "If your accuracy is over 70%, great work! \n",
    "This is a hard task to exceed 70% on.\n",
    "\n",
    "If your accuracy is under 45%, you'll need to make improvements.\n",
    "Go back and check your model architecture, loss function, and optimizer to make sure they're appropriate for an image classification task."
   ]
  },
  {
   "cell_type": "code",
   "execution_count": 28,
   "id": "bb86fc2e",
   "metadata": {
    "execution": {
     "iopub.execute_input": "2022-12-24T17:05:39.216364Z",
     "iopub.status.busy": "2022-12-24T17:05:39.214812Z",
     "iopub.status.idle": "2022-12-24T17:05:39.220233Z",
     "shell.execute_reply": "2022-12-24T17:05:39.219412Z"
    },
    "papermill": {
     "duration": 0.020255,
     "end_time": "2022-12-24T17:05:39.222030",
     "exception": false,
     "start_time": "2022-12-24T17:05:39.201775",
     "status": "completed"
    },
    "tags": []
   },
   "outputs": [],
   "source": [
    "## YOUR CODE HERE ##"
   ]
  },
  {
   "cell_type": "markdown",
   "id": "f2441c6c",
   "metadata": {
    "papermill": {
     "duration": 0.01204,
     "end_time": "2022-12-24T17:05:39.246379",
     "exception": false,
     "start_time": "2022-12-24T17:05:39.234339",
     "status": "completed"
    },
    "tags": []
   },
   "source": [
    "## Saving your model\n",
    "Using `torch.save`, save your model for future loading."
   ]
  },
  {
   "cell_type": "code",
   "execution_count": 29,
   "id": "29ddfac3",
   "metadata": {
    "execution": {
     "iopub.execute_input": "2022-12-24T17:05:39.272681Z",
     "iopub.status.busy": "2022-12-24T17:05:39.271804Z",
     "iopub.status.idle": "2022-12-24T17:05:39.276267Z",
     "shell.execute_reply": "2022-12-24T17:05:39.275443Z"
    },
    "papermill": {
     "duration": 0.019528,
     "end_time": "2022-12-24T17:05:39.278163",
     "exception": false,
     "start_time": "2022-12-24T17:05:39.258635",
     "status": "completed"
    },
    "tags": []
   },
   "outputs": [],
   "source": [
    "## YOUR CODE HERE ##\n"
   ]
  },
  {
   "cell_type": "markdown",
   "id": "40874070",
   "metadata": {
    "papermill": {
     "duration": 0.011972,
     "end_time": "2022-12-24T17:05:39.302185",
     "exception": false,
     "start_time": "2022-12-24T17:05:39.290213",
     "status": "completed"
    },
    "tags": []
   },
   "source": [
    "## Make a Recommendation\n",
    "\n",
    "Based on your evaluation, what is your recommendation on whether to build or buy? Explain your reasoning below."
   ]
  },
  {
   "cell_type": "markdown",
   "id": "c1c95260",
   "metadata": {
    "papermill": {
     "duration": 0.012065,
     "end_time": "2022-12-24T17:05:39.326422",
     "exception": false,
     "start_time": "2022-12-24T17:05:39.314357",
     "status": "completed"
    },
    "tags": []
   },
   "source": [
    "\n",
    "\n",
    "**Double click this cell to modify it**\n",
    "\n"
   ]
  }
 ],
 "metadata": {
  "kernelspec": {
   "display_name": "Python 3",
   "language": "python",
   "name": "python3"
  },
  "language_info": {
   "codemirror_mode": {
    "name": "ipython",
    "version": 3
   },
   "file_extension": ".py",
   "mimetype": "text/x-python",
   "name": "python",
   "nbconvert_exporter": "python",
   "pygments_lexer": "ipython3",
   "version": "3.7.12"
  },
  "papermill": {
   "default_parameters": {},
   "duration": 206.447067,
   "end_time": "2022-12-24T17:05:41.872857",
   "environment_variables": {},
   "exception": null,
   "input_path": "__notebook__.ipynb",
   "output_path": "__notebook__.ipynb",
   "parameters": {},
   "start_time": "2022-12-24T17:02:15.425790",
   "version": "2.3.4"
  },
  "widgets": {
   "application/vnd.jupyter.widget-state+json": {
    "state": {
     "01f30d46248f412da476b6c6a139eda2": {
      "model_module": "@jupyter-widgets/controls",
      "model_module_version": "1.5.0",
      "model_name": "DescriptionStyleModel",
      "state": {
       "_model_module": "@jupyter-widgets/controls",
       "_model_module_version": "1.5.0",
       "_model_name": "DescriptionStyleModel",
       "_view_count": null,
       "_view_module": "@jupyter-widgets/base",
       "_view_module_version": "1.2.0",
       "_view_name": "StyleView",
       "description_width": ""
      }
     },
     "0e0bf14f07214b86aebf0ffa4b14000e": {
      "model_module": "@jupyter-widgets/base",
      "model_module_version": "1.2.0",
      "model_name": "LayoutModel",
      "state": {
       "_model_module": "@jupyter-widgets/base",
       "_model_module_version": "1.2.0",
       "_model_name": "LayoutModel",
       "_view_count": null,
       "_view_module": "@jupyter-widgets/base",
       "_view_module_version": "1.2.0",
       "_view_name": "LayoutView",
       "align_content": null,
       "align_items": null,
       "align_self": null,
       "border": null,
       "bottom": null,
       "display": null,
       "flex": null,
       "flex_flow": null,
       "grid_area": null,
       "grid_auto_columns": null,
       "grid_auto_flow": null,
       "grid_auto_rows": null,
       "grid_column": null,
       "grid_gap": null,
       "grid_row": null,
       "grid_template_areas": null,
       "grid_template_columns": null,
       "grid_template_rows": null,
       "height": null,
       "justify_content": null,
       "justify_items": null,
       "left": null,
       "margin": null,
       "max_height": null,
       "max_width": null,
       "min_height": null,
       "min_width": null,
       "object_fit": null,
       "object_position": null,
       "order": null,
       "overflow": null,
       "overflow_x": null,
       "overflow_y": null,
       "padding": null,
       "right": null,
       "top": null,
       "visibility": null,
       "width": null
      }
     },
     "3551bb0600804e6a82846f73327ea853": {
      "model_module": "@jupyter-widgets/controls",
      "model_module_version": "1.5.0",
      "model_name": "FloatProgressModel",
      "state": {
       "_dom_classes": [],
       "_model_module": "@jupyter-widgets/controls",
       "_model_module_version": "1.5.0",
       "_model_name": "FloatProgressModel",
       "_view_count": null,
       "_view_module": "@jupyter-widgets/controls",
       "_view_module_version": "1.5.0",
       "_view_name": "ProgressView",
       "bar_style": "success",
       "description": "",
       "description_tooltip": null,
       "layout": "IPY_MODEL_84934c17ca7d43ecb5d5e32bc1139315",
       "max": 135107811.0,
       "min": 0.0,
       "orientation": "horizontal",
       "style": "IPY_MODEL_6d45cb4893fc4fffa3f538df4d83c342",
       "value": 135107811.0
      }
     },
     "3cf06d774f8f46ef9561d89d9242256e": {
      "model_module": "@jupyter-widgets/controls",
      "model_module_version": "1.5.0",
      "model_name": "HTMLModel",
      "state": {
       "_dom_classes": [],
       "_model_module": "@jupyter-widgets/controls",
       "_model_module_version": "1.5.0",
       "_model_name": "HTMLModel",
       "_view_count": null,
       "_view_module": "@jupyter-widgets/controls",
       "_view_module_version": "1.5.0",
       "_view_name": "HTMLView",
       "description": "",
       "description_tooltip": null,
       "layout": "IPY_MODEL_0e0bf14f07214b86aebf0ffa4b14000e",
       "placeholder": "​",
       "style": "IPY_MODEL_9f1fd5ff267040b29f97bb23a0fe6e81",
       "value": ""
      }
     },
     "441af13b21a94f7eb38dd4cef84d5b6c": {
      "model_module": "@jupyter-widgets/controls",
      "model_module_version": "1.5.0",
      "model_name": "HBoxModel",
      "state": {
       "_dom_classes": [],
       "_model_module": "@jupyter-widgets/controls",
       "_model_module_version": "1.5.0",
       "_model_name": "HBoxModel",
       "_view_count": null,
       "_view_module": "@jupyter-widgets/controls",
       "_view_module_version": "1.5.0",
       "_view_name": "HBoxView",
       "box_style": "",
       "children": [
        "IPY_MODEL_3cf06d774f8f46ef9561d89d9242256e",
        "IPY_MODEL_3551bb0600804e6a82846f73327ea853",
        "IPY_MODEL_5c3011f71ddb42618c3911bfa72b1391"
       ],
       "layout": "IPY_MODEL_af9835dd6a774efc943b19c023a25d29"
      }
     },
     "5c3011f71ddb42618c3911bfa72b1391": {
      "model_module": "@jupyter-widgets/controls",
      "model_module_version": "1.5.0",
      "model_name": "HTMLModel",
      "state": {
       "_dom_classes": [],
       "_model_module": "@jupyter-widgets/controls",
       "_model_module_version": "1.5.0",
       "_model_name": "HTMLModel",
       "_view_count": null,
       "_view_module": "@jupyter-widgets/controls",
       "_view_module_version": "1.5.0",
       "_view_name": "HTMLView",
       "description": "",
       "description_tooltip": null,
       "layout": "IPY_MODEL_727073b4e5e643db97c7f2bb52ff1e32",
       "placeholder": "​",
       "style": "IPY_MODEL_01f30d46248f412da476b6c6a139eda2",
       "value": " 135108608/? [00:04&lt;00:00, 37132115.62it/s]"
      }
     },
     "6d45cb4893fc4fffa3f538df4d83c342": {
      "model_module": "@jupyter-widgets/controls",
      "model_module_version": "1.5.0",
      "model_name": "ProgressStyleModel",
      "state": {
       "_model_module": "@jupyter-widgets/controls",
       "_model_module_version": "1.5.0",
       "_model_name": "ProgressStyleModel",
       "_view_count": null,
       "_view_module": "@jupyter-widgets/base",
       "_view_module_version": "1.2.0",
       "_view_name": "StyleView",
       "bar_color": null,
       "description_width": ""
      }
     },
     "727073b4e5e643db97c7f2bb52ff1e32": {
      "model_module": "@jupyter-widgets/base",
      "model_module_version": "1.2.0",
      "model_name": "LayoutModel",
      "state": {
       "_model_module": "@jupyter-widgets/base",
       "_model_module_version": "1.2.0",
       "_model_name": "LayoutModel",
       "_view_count": null,
       "_view_module": "@jupyter-widgets/base",
       "_view_module_version": "1.2.0",
       "_view_name": "LayoutView",
       "align_content": null,
       "align_items": null,
       "align_self": null,
       "border": null,
       "bottom": null,
       "display": null,
       "flex": null,
       "flex_flow": null,
       "grid_area": null,
       "grid_auto_columns": null,
       "grid_auto_flow": null,
       "grid_auto_rows": null,
       "grid_column": null,
       "grid_gap": null,
       "grid_row": null,
       "grid_template_areas": null,
       "grid_template_columns": null,
       "grid_template_rows": null,
       "height": null,
       "justify_content": null,
       "justify_items": null,
       "left": null,
       "margin": null,
       "max_height": null,
       "max_width": null,
       "min_height": null,
       "min_width": null,
       "object_fit": null,
       "object_position": null,
       "order": null,
       "overflow": null,
       "overflow_x": null,
       "overflow_y": null,
       "padding": null,
       "right": null,
       "top": null,
       "visibility": null,
       "width": null
      }
     },
     "84934c17ca7d43ecb5d5e32bc1139315": {
      "model_module": "@jupyter-widgets/base",
      "model_module_version": "1.2.0",
      "model_name": "LayoutModel",
      "state": {
       "_model_module": "@jupyter-widgets/base",
       "_model_module_version": "1.2.0",
       "_model_name": "LayoutModel",
       "_view_count": null,
       "_view_module": "@jupyter-widgets/base",
       "_view_module_version": "1.2.0",
       "_view_name": "LayoutView",
       "align_content": null,
       "align_items": null,
       "align_self": null,
       "border": null,
       "bottom": null,
       "display": null,
       "flex": null,
       "flex_flow": null,
       "grid_area": null,
       "grid_auto_columns": null,
       "grid_auto_flow": null,
       "grid_auto_rows": null,
       "grid_column": null,
       "grid_gap": null,
       "grid_row": null,
       "grid_template_areas": null,
       "grid_template_columns": null,
       "grid_template_rows": null,
       "height": null,
       "justify_content": null,
       "justify_items": null,
       "left": null,
       "margin": null,
       "max_height": null,
       "max_width": null,
       "min_height": null,
       "min_width": null,
       "object_fit": null,
       "object_position": null,
       "order": null,
       "overflow": null,
       "overflow_x": null,
       "overflow_y": null,
       "padding": null,
       "right": null,
       "top": null,
       "visibility": null,
       "width": null
      }
     },
     "9f1fd5ff267040b29f97bb23a0fe6e81": {
      "model_module": "@jupyter-widgets/controls",
      "model_module_version": "1.5.0",
      "model_name": "DescriptionStyleModel",
      "state": {
       "_model_module": "@jupyter-widgets/controls",
       "_model_module_version": "1.5.0",
       "_model_name": "DescriptionStyleModel",
       "_view_count": null,
       "_view_module": "@jupyter-widgets/base",
       "_view_module_version": "1.2.0",
       "_view_name": "StyleView",
       "description_width": ""
      }
     },
     "af9835dd6a774efc943b19c023a25d29": {
      "model_module": "@jupyter-widgets/base",
      "model_module_version": "1.2.0",
      "model_name": "LayoutModel",
      "state": {
       "_model_module": "@jupyter-widgets/base",
       "_model_module_version": "1.2.0",
       "_model_name": "LayoutModel",
       "_view_count": null,
       "_view_module": "@jupyter-widgets/base",
       "_view_module_version": "1.2.0",
       "_view_name": "LayoutView",
       "align_content": null,
       "align_items": null,
       "align_self": null,
       "border": null,
       "bottom": null,
       "display": null,
       "flex": null,
       "flex_flow": null,
       "grid_area": null,
       "grid_auto_columns": null,
       "grid_auto_flow": null,
       "grid_auto_rows": null,
       "grid_column": null,
       "grid_gap": null,
       "grid_row": null,
       "grid_template_areas": null,
       "grid_template_columns": null,
       "grid_template_rows": null,
       "height": null,
       "justify_content": null,
       "justify_items": null,
       "left": null,
       "margin": null,
       "max_height": null,
       "max_width": null,
       "min_height": null,
       "min_width": null,
       "object_fit": null,
       "object_position": null,
       "order": null,
       "overflow": null,
       "overflow_x": null,
       "overflow_y": null,
       "padding": null,
       "right": null,
       "top": null,
       "visibility": null,
       "width": null
      }
     }
    },
    "version_major": 2,
    "version_minor": 0
   }
  }
 },
 "nbformat": 4,
 "nbformat_minor": 5
}
