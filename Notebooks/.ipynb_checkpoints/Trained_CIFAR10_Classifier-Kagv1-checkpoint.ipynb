{
 "cells": [
  {
   "cell_type": "markdown",
   "metadata": {},
   "source": [
    "# Introduction\n",
    "\n",
    "In this project, you will build a neural network of your own design to evaluate the CIFAR-10 dataset.\n",
    "Our target accuracy is 70%, but any accuracy over 50% is a great start.\n",
    "Some of the benchmark results on CIFAR-10 include:\n",
    "\n",
    "78.9% Accuracy | [Deep Belief Networks; Krizhevsky, 2010](https://www.cs.toronto.edu/~kriz/conv-cifar10-aug2010.pdf)\n",
    "\n",
    "90.6% Accuracy | [Maxout Networks; Goodfellow et al., 2013](https://arxiv.org/pdf/1302.4389.pdf)\n",
    "\n",
    "96.0% Accuracy | [Wide Residual Networks; Zagoruyko et al., 2016](https://arxiv.org/pdf/1605.07146.pdf)\n",
    "\n",
    "99.0% Accuracy | [GPipe; Huang et al., 2018](https://arxiv.org/pdf/1811.06965.pdf)\n",
    "\n",
    "98.5% Accuracy | [Rethinking Recurrent Neural Networks and other Improvements for ImageClassification; Nguyen et al., 2020](https://arxiv.org/pdf/2007.15161.pdf)\n",
    "\n",
    "Research with this dataset is ongoing. Notably, many of these networks are quite large and quite expensive to train. \n",
    "\n",
    "## Citations\n",
    "\n",
    "Dataset: This tech report (Chapter 3) describes the dataset and the methodology followed when collecting it in much greater detail. Please cite it if you intend to use this dataset.\n",
    "[Learning Multiple Layers of Features from Tiny Images](https://www.cs.toronto.edu/~kriz/learning-features-2009-TR.pdf), Alex Krizhevsky, 2009.\n",
    "\n",
    "[Normalization values for transforms:](https://stackoverflow.com/questions/66678052/how-to-calculate-the-mean-and-the-std-of-cifar10-data)\n",
    "\n",
    "[Transfer Learning for Computer Vision Tutorial](https://pytorch.org/tutorials/beginner/transfer_learning_tutorial.html) - was referred by a very nice technical mentor I reached out to after going crazy all weekend with a feed-forward model that would not learn! :)\n",
    "\n",
    "\n",
    "\n",
    "## Imports"
   ]
  },
  {
   "cell_type": "code",
   "execution_count": 34,
   "metadata": {
    "execution": {
     "iopub.execute_input": "2022-12-24T16:56:30.414974Z",
     "iopub.status.busy": "2022-12-24T16:56:30.414019Z",
     "iopub.status.idle": "2022-12-24T16:56:30.422244Z",
     "shell.execute_reply": "2022-12-24T16:56:30.420966Z",
     "shell.execute_reply.started": "2022-12-24T16:56:30.414898Z"
    }
   },
   "outputs": [],
   "source": [
    "## This cell contains the essential imports you will need – DO NOT CHANGE THE CONTENTS! ##\n",
    "import torch\n",
    "import torch.nn as nn\n",
    "import torch.nn.functional as F\n",
    "import torch.optim as optim\n",
    "import torchvision\n",
    "import torchvision.transforms as transforms\n",
    "import matplotlib.pyplot as plt\n",
    "import numpy as np"
   ]
  },
  {
   "cell_type": "code",
   "execution_count": 35,
   "metadata": {
    "execution": {
     "iopub.execute_input": "2022-12-24T16:56:30.425296Z",
     "iopub.status.busy": "2022-12-24T16:56:30.424534Z",
     "iopub.status.idle": "2022-12-24T16:56:30.444951Z",
     "shell.execute_reply": "2022-12-24T16:56:30.443923Z",
     "shell.execute_reply.started": "2022-12-24T16:56:30.425246Z"
    }
   },
   "outputs": [],
   "source": [
    "# My additional imports and magics & stuff\n",
    "%matplotlib inline\n",
    "%config InlineBackend.figure_format = 'retina'\n",
    "\n",
    "from torchvision import datasets, models, transforms\n",
    "from torch.utils.data.dataloader import DataLoader\n",
    "import time\n",
    "import os\n",
    "import copy\n",
    "from collections import OrderedDict\n",
    "import os\n",
    "plt.ion()   # interactive mode\n",
    "\n",
    "from torchvision.datasets import ImageFolder\n",
    "from torchvision.transforms import ToTensor\n",
    "import tarfile\n",
    "from torchvision.datasets.utils import download_url\n",
    "from torch.utils.data import random_split\n",
    "\n",
    "\n"
   ]
  },
  {
   "cell_type": "markdown",
   "metadata": {},
   "source": [
    "## Load the Dataset\n",
    "\n",
    "Specify your transforms as a list first.\n",
    "The transforms module is already loaded as `transforms`.\n",
    "\n",
    "CIFAR-10 is fortunately included in the torchvision module.\n",
    "Then, you can create your dataset using the `CIFAR10` object from `torchvision.datasets` ([the documentation is available here](https://pytorch.org/docs/stable/torchvision/datasets.html#cifar)).\n",
    "Make sure to specify `download=True`! \n",
    "\n",
    "Once your dataset is created, you'll also need to define a `DataLoader` from the `torch.utils.data` module for both the train and the test set."
   ]
  },
  {
   "cell_type": "markdown",
   "metadata": {},
   "source": [
    "Since I'm struggling to put this all together, let's start with images themselves and remove the complexity of using these batches and pytorch objects, as they are just one more thing that can go wrong and aren't necessary."
   ]
  },
  {
   "cell_type": "code",
   "execution_count": 36,
   "metadata": {
    "execution": {
     "iopub.execute_input": "2022-12-24T16:56:30.448318Z",
     "iopub.status.busy": "2022-12-24T16:56:30.448022Z",
     "iopub.status.idle": "2022-12-24T16:56:30.457015Z",
     "shell.execute_reply": "2022-12-24T16:56:30.455641Z",
     "shell.execute_reply.started": "2022-12-24T16:56:30.448290Z"
    }
   },
   "outputs": [
    {
     "name": "stdout",
     "output_type": "stream",
     "text": [
      "Using downloaded and verified file: ./cifar10.tgz\n"
     ]
    }
   ],
   "source": [
    "# Dowload the dataset\n",
    "dataset_url = \"https://s3.amazonaws.com/fast-ai-imageclas/cifar10.tgz\"\n",
    "download_url(dataset_url, '.')"
   ]
  },
  {
   "cell_type": "code",
   "execution_count": 37,
   "metadata": {
    "execution": {
     "iopub.execute_input": "2022-12-24T16:56:30.460784Z",
     "iopub.status.busy": "2022-12-24T16:56:30.460057Z",
     "iopub.status.idle": "2022-12-24T16:56:47.274244Z",
     "shell.execute_reply": "2022-12-24T16:56:47.273269Z",
     "shell.execute_reply.started": "2022-12-24T16:56:30.460747Z"
    }
   },
   "outputs": [],
   "source": [
    "# Extract the data from tar file:\n",
    "with tarfile.open('./cifar10.tgz', 'r:gz') as tar:\n",
    "    tar.extractall(path='./data')"
   ]
  },
  {
   "cell_type": "code",
   "execution_count": 38,
   "metadata": {
    "execution": {
     "iopub.execute_input": "2022-12-24T16:56:47.276173Z",
     "iopub.status.busy": "2022-12-24T16:56:47.275582Z",
     "iopub.status.idle": "2022-12-24T16:56:47.283311Z",
     "shell.execute_reply": "2022-12-24T16:56:47.282262Z",
     "shell.execute_reply.started": "2022-12-24T16:56:47.276134Z"
    }
   },
   "outputs": [
    {
     "name": "stdout",
     "output_type": "stream",
     "text": [
      "['test', 'train']\n",
      "['dog', 'automobile', 'deer', 'ship', 'frog', 'bird', 'airplane', 'truck', 'horse', 'cat']\n"
     ]
    }
   ],
   "source": [
    "# verifying the data is there:\n",
    "\n",
    "data_dir = './data/cifar10'\n",
    "\n",
    "print(os.listdir(data_dir))\n",
    "classes_list = os.listdir(data_dir + \"/train\")\n",
    "print(classes_list)"
   ]
  },
  {
   "cell_type": "code",
   "execution_count": 39,
   "metadata": {
    "execution": {
     "iopub.execute_input": "2022-12-24T16:56:47.285595Z",
     "iopub.status.busy": "2022-12-24T16:56:47.284935Z",
     "iopub.status.idle": "2022-12-24T16:56:47.295387Z",
     "shell.execute_reply": "2022-12-24T16:56:47.294176Z",
     "shell.execute_reply.started": "2022-12-24T16:56:47.285535Z"
    }
   },
   "outputs": [
    {
     "name": "stdout",
     "output_type": "stream",
     "text": [
      "No. of test examples for ship: 1000\n",
      "['0457.png', '0703.png', '0496.png', '0509.png', '0952.png']\n"
     ]
    }
   ],
   "source": [
    "ship_test_files = os.listdir(data_dir + \"/test/ship\")\n",
    "print(\"No. of test examples for ship:\", len(ship_test_files))\n",
    "print(ship_test_files[:5])"
   ]
  },
  {
   "cell_type": "code",
   "execution_count": 40,
   "metadata": {
    "execution": {
     "iopub.execute_input": "2022-12-24T16:56:47.297375Z",
     "iopub.status.busy": "2022-12-24T16:56:47.296899Z",
     "iopub.status.idle": "2022-12-24T16:56:47.474146Z",
     "shell.execute_reply": "2022-12-24T16:56:47.473270Z",
     "shell.execute_reply.started": "2022-12-24T16:56:47.297340Z"
    }
   },
   "outputs": [],
   "source": [
    "dataset = ImageFolder(data_dir+'/train', transform=ToTensor())"
   ]
  },
  {
   "cell_type": "markdown",
   "metadata": {},
   "source": [
    "Each element of this dataset contains an image tensor and a label. The images are 3-channels with dimensions of 32x32, so the expected tensor shape for each image will 3, 32, 32. The labels should just be a 1-dimensional tensor, but let's pick out an element to check that this is what we really have:"
   ]
  },
  {
   "cell_type": "code",
   "execution_count": 41,
   "metadata": {
    "execution": {
     "iopub.execute_input": "2022-12-24T16:56:47.476026Z",
     "iopub.status.busy": "2022-12-24T16:56:47.475663Z",
     "iopub.status.idle": "2022-12-24T16:56:47.489786Z",
     "shell.execute_reply": "2022-12-24T16:56:47.488861Z",
     "shell.execute_reply.started": "2022-12-24T16:56:47.475991Z"
    }
   },
   "outputs": [
    {
     "name": "stdout",
     "output_type": "stream",
     "text": [
      "torch.Size([3, 32, 32]) 0\n"
     ]
    },
    {
     "data": {
      "text/plain": [
       "tensor([[[0.4431, 0.4314, 0.4353,  ..., 0.6039, 0.6431, 0.6745],\n",
       "         [0.4471, 0.4314, 0.4353,  ..., 0.6667, 0.6235, 0.6314],\n",
       "         [0.4588, 0.4549, 0.4471,  ..., 0.4902, 0.4471, 0.5294],\n",
       "         ...,\n",
       "         [0.2039, 0.2039, 0.2000,  ..., 0.6902, 0.6745, 0.6784],\n",
       "         [0.1765, 0.1804, 0.2000,  ..., 0.6745, 0.6784, 0.6863],\n",
       "         [0.1882, 0.2000, 0.2235,  ..., 0.6784, 0.6745, 0.6863]],\n",
       "\n",
       "        [[0.3843, 0.3725, 0.3725,  ..., 0.5961, 0.6431, 0.6745],\n",
       "         [0.3804, 0.3686, 0.3725,  ..., 0.6549, 0.6196, 0.6275],\n",
       "         [0.3765, 0.3804, 0.3765,  ..., 0.4784, 0.4392, 0.5216],\n",
       "         ...,\n",
       "         [0.2039, 0.1961, 0.1843,  ..., 0.6627, 0.6549, 0.6588],\n",
       "         [0.1882, 0.1804, 0.1961,  ..., 0.6510, 0.6549, 0.6667],\n",
       "         [0.2039, 0.2039, 0.2235,  ..., 0.6588, 0.6510, 0.6667]],\n",
       "\n",
       "        [[0.2706, 0.2588, 0.2627,  ..., 0.6078, 0.6510, 0.6824],\n",
       "         [0.2706, 0.2627, 0.2706,  ..., 0.6667, 0.6314, 0.6392],\n",
       "         [0.2588, 0.2745, 0.2706,  ..., 0.4902, 0.4510, 0.5333],\n",
       "         ...,\n",
       "         [0.1922, 0.2039, 0.2078,  ..., 0.6941, 0.6863, 0.6902],\n",
       "         [0.1843, 0.1843, 0.2078,  ..., 0.6784, 0.6863, 0.6941],\n",
       "         [0.2000, 0.2039, 0.2235,  ..., 0.6863, 0.6784, 0.6902]]])"
      ]
     },
     "execution_count": 41,
     "metadata": {},
     "output_type": "execute_result"
    }
   ],
   "source": [
    "img, label = dataset[7]\n",
    "print(img.shape, label)\n",
    "img"
   ]
  },
  {
   "cell_type": "code",
   "execution_count": 42,
   "metadata": {
    "execution": {
     "iopub.execute_input": "2022-12-24T16:56:47.491676Z",
     "iopub.status.busy": "2022-12-24T16:56:47.491325Z",
     "iopub.status.idle": "2022-12-24T16:56:47.496795Z",
     "shell.execute_reply": "2022-12-24T16:56:47.495730Z",
     "shell.execute_reply.started": "2022-12-24T16:56:47.491642Z"
    }
   },
   "outputs": [
    {
     "name": "stdout",
     "output_type": "stream",
     "text": [
      "['airplane', 'automobile', 'bird', 'cat', 'deer', 'dog', 'frog', 'horse', 'ship', 'truck']\n"
     ]
    }
   ],
   "source": [
    "print(dataset.classes) #this is a property of the dataset"
   ]
  },
  {
   "cell_type": "code",
   "execution_count": null,
   "metadata": {},
   "outputs": [],
   "source": []
  },
  {
   "cell_type": "markdown",
   "metadata": {},
   "source": [
    "## Explore the Dataset\n",
    "Using matplotlib, numpy, and torch, explore the dimensions of your data.\n",
    "\n",
    "You can view images using the `show5` function defined below – it takes a data loader as an argument.\n",
    "Remember that normalized images will look really weird to you! You may want to try changing your transforms to view images.\n",
    "Typically using no transforms other than `toTensor()` works well for viewing – but not as well for training your network.\n",
    "If `show5` doesn't work, go back and check your code for creating your data loaders and your training/test sets."
   ]
  },
  {
   "cell_type": "code",
   "execution_count": 43,
   "metadata": {
    "execution": {
     "iopub.execute_input": "2022-12-24T16:56:47.502610Z",
     "iopub.status.busy": "2022-12-24T16:56:47.501859Z",
     "iopub.status.idle": "2022-12-24T16:56:47.507867Z",
     "shell.execute_reply": "2022-12-24T16:56:47.506971Z",
     "shell.execute_reply.started": "2022-12-24T16:56:47.502565Z"
    }
   },
   "outputs": [],
   "source": [
    "# Function to change the image tensor to (32, 32, 3) for viewing and also adds the label and displayes the image.\n",
    "def show_example(img, label):\n",
    "    print('Label: ', dataset.classes[label], \"(\"+str(label)+\")\")\n",
    "    plt.imshow(img.permute(1, 2, 0))"
   ]
  },
  {
   "cell_type": "code",
   "execution_count": 44,
   "metadata": {
    "execution": {
     "iopub.execute_input": "2022-12-24T16:56:47.510329Z",
     "iopub.status.busy": "2022-12-24T16:56:47.509414Z",
     "iopub.status.idle": "2022-12-24T16:56:47.777756Z",
     "shell.execute_reply": "2022-12-24T16:56:47.776824Z",
     "shell.execute_reply.started": "2022-12-24T16:56:47.510291Z"
    }
   },
   "outputs": [
    {
     "name": "stdout",
     "output_type": "stream",
     "text": [
      "Label:  automobile (1)\n"
     ]
    },
    {
     "data": {
      "image/png": "[encoded data removed]",
      "text/plain": [
       "<Figure size 432x288 with 1 Axes>"
      ]
     },
     "metadata": {
      "image/png": {
       "height": 248,
       "width": 251
      },
      "needs_background": "light"
     },
     "output_type": "display_data"
    }
   ],
   "source": [
    "show_example(*dataset[5499])"
   ]
  },
  {
   "cell_type": "markdown",
   "metadata": {},
   "source": [
    "## Splitting Training and Validation Sets\n",
    "\n",
    "We need make sure we have sets for training, validation and testing. The test set was already done as part of the download. But we can pull out 5000 images from the training set randomly and use that for the validation during training."
   ]
  },
  {
   "cell_type": "code",
   "execution_count": 45,
   "metadata": {
    "execution": {
     "iopub.execute_input": "2022-12-24T16:56:47.779714Z",
     "iopub.status.busy": "2022-12-24T16:56:47.779353Z",
     "iopub.status.idle": "2022-12-24T16:56:47.785656Z",
     "shell.execute_reply": "2022-12-24T16:56:47.784644Z",
     "shell.execute_reply.started": "2022-12-24T16:56:47.779677Z"
    }
   },
   "outputs": [],
   "source": [
    "random_seed = 42\n",
    "torch.manual_seed(random_seed);"
   ]
  },
  {
   "cell_type": "code",
   "execution_count": 46,
   "metadata": {
    "execution": {
     "iopub.execute_input": "2022-12-24T16:56:47.788078Z",
     "iopub.status.busy": "2022-12-24T16:56:47.786954Z",
     "iopub.status.idle": "2022-12-24T16:56:47.802755Z",
     "shell.execute_reply": "2022-12-24T16:56:47.801952Z",
     "shell.execute_reply.started": "2022-12-24T16:56:47.788041Z"
    }
   },
   "outputs": [
    {
     "data": {
      "text/plain": [
       "(45000, 5000)"
      ]
     },
     "execution_count": 46,
     "metadata": {},
     "output_type": "execute_result"
    }
   ],
   "source": [
    "validation_size = 5000\n",
    "train_size = len(dataset) - validation_size\n",
    "\n",
    "train_ds, val_ds = random_split(dataset, [train_size, validation_size])\n",
    "len(train_ds), len(val_ds)"
   ]
  },
  {
   "cell_type": "markdown",
   "metadata": {},
   "source": [
    "Now create the data loaders for each of the sets (train_ds and val_ds), so that we can load data in batches."
   ]
  },
  {
   "cell_type": "code",
   "execution_count": 47,
   "metadata": {
    "execution": {
     "iopub.execute_input": "2022-12-24T16:56:47.805258Z",
     "iopub.status.busy": "2022-12-24T16:56:47.804671Z",
     "iopub.status.idle": "2022-12-24T16:56:47.819180Z",
     "shell.execute_reply": "2022-12-24T16:56:47.818288Z",
     "shell.execute_reply.started": "2022-12-24T16:56:47.805222Z"
    }
   },
   "outputs": [],
   "source": [
    "batch_size = 128\n",
    "\n",
    "trainloader = DataLoader(train_ds, batch_size, shuffle=True, num_workers=4, pin_memory=True)\n",
    "\n",
    "validloader = DataLoader(val_ds, batch_size*2, num_workers=2, pin_memory=True)"
   ]
  },
  {
   "cell_type": "markdown",
   "metadata": {},
   "source": [
    "## Defining the CNN Model\n",
    "\n",
    "Now that data is ready, we can define the model.\n",
    "\n",
    "Some notes about planning this out:\n",
    "* Since our images have 3 channels, we need a kernel for each channel and keeping in mind that the outputs are added together pixel-wise. We'll use Conv2d to transform our 3-channel images to a 16-channel feature map.\n",
    "* The model needs to have max-pooling layers to reduce the sizes of the output from each convolutional layer. We'll use MaxPool2d which will cut the feature map in half each time.\n",
    "* Finally, we'll add fully connected layers at the end to serve as the classifier part of the model which will take the output of the convolutional part of the model and give us the vector of size 10 (1 per class).\n"
   ]
  },
  {
   "cell_type": "code",
   "execution_count": null,
   "metadata": {},
   "outputs": [],
   "source": []
  },
  {
   "cell_type": "markdown",
   "metadata": {},
   "source": [
    "## Build your Neural Network\n",
    "Using the layers in `torch.nn` (which has been imported as `nn`) and the `torch.nn.functional` module (imported as `F`), construct a neural network based on the parameters of the dataset. \n",
    "Feel free to construct a model of any architecture – feedforward, convolutional, or even something more advanced!"
   ]
  },
  {
   "cell_type": "markdown",
   "metadata": {},
   "source": [
    "### Defining the Model & Helper Functions\n",
    "We'll define the model by extending an `ImageClassificationBase`"
   ]
  },
  {
   "cell_type": "code",
   "execution_count": 48,
   "metadata": {
    "execution": {
     "iopub.execute_input": "2022-12-24T16:56:47.821101Z",
     "iopub.status.busy": "2022-12-24T16:56:47.820522Z",
     "iopub.status.idle": "2022-12-24T16:56:47.831889Z",
     "shell.execute_reply": "2022-12-24T16:56:47.830824Z",
     "shell.execute_reply.started": "2022-12-24T16:56:47.821045Z"
    }
   },
   "outputs": [],
   "source": [
    "class ImageClassificationBase(nn.Module):\n",
    "    # This function executes a training step by generating predictions and calculating loss\n",
    "    def training_step(self, batch):\n",
    "        images, labels = batch\n",
    "        out = self(images)\n",
    "        loss = F.cross_entropy(out, labels)\n",
    "        return loss\n",
    "    \n",
    "    # This function executes the validation step by generating predictions and calculating loss\n",
    "    # on the validation data. It also calculates the accuracy.\n",
    "    def validation_step(self, batch):\n",
    "        images, labels = batch\n",
    "        out = self(images)                    \n",
    "        loss = F.cross_entropy(out, labels)   \n",
    "        acc = accuracy(out, labels)           \n",
    "        return {'val_loss': loss.detach(), 'val_acc': acc} #NOTE: .detach() just keeps the tensor, no gradient info\n",
    "\n",
    "    # This function puts together all the values from each batch: the losses and accuracy, so we have\n",
    "    # just one combined value per epoch.\n",
    "    def validation_epoch_end(self, outputs):\n",
    "        batch_losses = [x['val_loss'] for x in outputs]\n",
    "        epoch_loss = torch.stack(batch_losses).mean()   # Combine losses\n",
    "        batch_accs = [x['val_acc'] for x in outputs]\n",
    "        epoch_acc = torch.stack(batch_accs).mean()      # Combine accuracies\n",
    "        return {'val_loss': epoch_loss.item(), 'val_acc': epoch_acc.item()}\n",
    "    \n",
    "    # This function prints out the model performance for each epoch so we can track it:\n",
    "    def epoch_end(self, epochs, result):\n",
    "        print(\"Epoch [{}], train_loss: {:.4f}, val_loss: {:.4f}, val_acc: {:.4f}\".format(\n",
    "            epochs, result['train_loss'], result['val_loss'], result['val_acc']))\n",
    "\n",
    "        # This function gives an overall percentage accuracy for the model (percent of predictions that were right)\n",
    "def accuracy(outputs, labels):\n",
    "    _, preds = torch.max(outputs, dim=1)\n",
    "    return torch.tensor(torch.sum(preds == labels).item() / len(preds))\n",
    "    \n",
    "    "
   ]
  },
  {
   "cell_type": "markdown",
   "metadata": {},
   "source": [
    "\n"
   ]
  },
  {
   "cell_type": "markdown",
   "metadata": {},
   "source": [
    "### Put together all the layers into one Network\n",
    "\n",
    "this network architecture is attributed to excellent tutorial by Shadab Hussain on Kaggle [here](https://www.kaggle.com/code/shadabhussain/cifar-10-cnn-using-pytorch)."
   ]
  },
  {
   "cell_type": "code",
   "execution_count": 49,
   "metadata": {
    "execution": {
     "iopub.execute_input": "2022-12-24T16:56:47.833785Z",
     "iopub.status.busy": "2022-12-24T16:56:47.833331Z",
     "iopub.status.idle": "2022-12-24T16:56:47.895761Z",
     "shell.execute_reply": "2022-12-24T16:56:47.894900Z",
     "shell.execute_reply.started": "2022-12-24T16:56:47.833745Z"
    }
   },
   "outputs": [
    {
     "data": {
      "text/plain": [
       "TutorialModel(\n",
       "  (network): Sequential(\n",
       "    (0): Conv2d(3, 32, kernel_size=(3, 3), stride=(1, 1), padding=(1, 1))\n",
       "    (1): ReLU()\n",
       "    (2): Conv2d(32, 64, kernel_size=(3, 3), stride=(1, 1), padding=(1, 1))\n",
       "    (3): ReLU()\n",
       "    (4): MaxPool2d(kernel_size=2, stride=2, padding=0, dilation=1, ceil_mode=False)\n",
       "    (5): Conv2d(64, 128, kernel_size=(3, 3), stride=(1, 1), padding=(1, 1))\n",
       "    (6): ReLU()\n",
       "    (7): Conv2d(128, 128, kernel_size=(3, 3), stride=(1, 1), padding=(1, 1))\n",
       "    (8): ReLU()\n",
       "    (9): MaxPool2d(kernel_size=2, stride=2, padding=0, dilation=1, ceil_mode=False)\n",
       "    (10): Conv2d(128, 256, kernel_size=(3, 3), stride=(1, 1), padding=(1, 1))\n",
       "    (11): ReLU()\n",
       "    (12): Conv2d(256, 256, kernel_size=(3, 3), stride=(1, 1), padding=(1, 1))\n",
       "    (13): ReLU()\n",
       "    (14): MaxPool2d(kernel_size=2, stride=2, padding=0, dilation=1, ceil_mode=False)\n",
       "    (15): Flatten(start_dim=1, end_dim=-1)\n",
       "    (16): Linear(in_features=4096, out_features=1024, bias=True)\n",
       "    (17): ReLU()\n",
       "    (18): Linear(in_features=1024, out_features=512, bias=True)\n",
       "    (19): ReLU()\n",
       "    (20): Linear(in_features=512, out_features=10, bias=True)\n",
       "  )\n",
       ")"
      ]
     },
     "execution_count": 49,
     "metadata": {},
     "output_type": "execute_result"
    }
   ],
   "source": [
    "class TutorialModel(ImageClassificationBase):\n",
    "    def __init__(self):\n",
    "        super().__init__()\n",
    "        self.network = nn.Sequential(\n",
    "            nn.Conv2d(3, 32, kernel_size=3, padding=1),\n",
    "            nn.ReLU(),\n",
    "            nn.Conv2d(32, 64, kernel_size=3, stride=1, padding=1),\n",
    "            nn.ReLU(),\n",
    "            nn.MaxPool2d(2, 2), # output: 64 x 16 x 16\n",
    "\n",
    "            nn.Conv2d(64, 128, kernel_size=3, stride=1, padding=1),\n",
    "            nn.ReLU(),\n",
    "            nn.Conv2d(128, 128, kernel_size=3, stride=1, padding=1),\n",
    "            nn.ReLU(),\n",
    "            nn.MaxPool2d(2, 2), # output: 128 x 8 x 8\n",
    "\n",
    "            nn.Conv2d(128, 256, kernel_size=3, stride=1, padding=1),\n",
    "            nn.ReLU(),\n",
    "            nn.Conv2d(256, 256, kernel_size=3, stride=1, padding=1),\n",
    "            nn.ReLU(),\n",
    "            nn.MaxPool2d(2, 2), # output: 256 x 4 x 4\n",
    "\n",
    "            nn.Flatten(), \n",
    "            nn.Linear(256*4*4, 1024),\n",
    "            nn.ReLU(),\n",
    "            nn.Linear(1024, 512),\n",
    "            nn.ReLU(),\n",
    "            nn.Linear(512, 10))\n",
    "        \n",
    "    def forward(self, xb):\n",
    "        return self.network(xb)\n",
    "    \n",
    "#''''''Look at the model:''''''\n",
    "model = TutorialModel()\n",
    "model"
   ]
  },
  {
   "cell_type": "code",
   "execution_count": 50,
   "metadata": {
    "execution": {
     "iopub.execute_input": "2022-12-24T16:56:47.897304Z",
     "iopub.status.busy": "2022-12-24T16:56:47.896961Z",
     "iopub.status.idle": "2022-12-24T16:56:48.915848Z",
     "shell.execute_reply": "2022-12-24T16:56:48.914662Z",
     "shell.execute_reply.started": "2022-12-24T16:56:47.897269Z"
    }
   },
   "outputs": [
    {
     "name": "stdout",
     "output_type": "stream",
     "text": [
      "images.shape: torch.Size([128, 3, 32, 32])\n",
      "out.shape: torch.Size([128, 10])\n",
      "out[0]: tensor([-0.0196,  0.0411, -0.0260, -0.0372,  0.0459, -0.0270, -0.0140,  0.0326,\n",
      "         0.0288,  0.0188], grad_fn=<SelectBackward0>)\n"
     ]
    }
   ],
   "source": [
    "# Checking that the model output is in the shape we expect.\n",
    "# each batch from the trainloader has 128 images and each is a 3, 32, 32 tensor.\n",
    "# the model should output a vector with 10 elements\n",
    "for images, labels in trainloader:\n",
    "    print('images.shape:', images.shape)\n",
    "    out = model(images)\n",
    "    print('out.shape:', out.shape)\n",
    "    print('out[0]:', out[0])\n",
    "    break"
   ]
  },
  {
   "cell_type": "markdown",
   "metadata": {},
   "source": [
    "Specify a loss function and an optimizer, and instantiate the model.\n",
    "\n",
    "If you use a less common loss function, please note why you chose that loss function in a comment."
   ]
  },
  {
   "cell_type": "markdown",
   "metadata": {},
   "source": [
    "## Running your Neural Network\n",
    "Use whatever method you like to train your neural network, and ensure you record the average loss at each epoch. \n",
    "Don't forget to use `torch.device()` and the `.to()` method for both your model and your data if you are using GPU!\n",
    "\n",
    "If you want to print your loss during each epoch, you can use the `enumerate` function and print the loss after a set number of batches. 250 batches works well for most people!"
   ]
  },
  {
   "cell_type": "markdown",
   "metadata": {},
   "source": [
    "#### Wrapping the data and the model reliably based on where the notebook will run:\n",
    "Handy borrowed helpers to make sure the data and model get moved to GPU (or not) as needed.\n",
    "This code came from excellent tutorial by Shadab Husain on Kaggle [here](https://www.kaggle.com/code/shadabhussain/cifar-10-cnn-using-pytorch)\n"
   ]
  },
  {
   "cell_type": "code",
   "execution_count": 51,
   "metadata": {
    "execution": {
     "iopub.execute_input": "2022-12-24T16:56:48.918483Z",
     "iopub.status.busy": "2022-12-24T16:56:48.918098Z",
     "iopub.status.idle": "2022-12-24T16:56:48.926885Z",
     "shell.execute_reply": "2022-12-24T16:56:48.925654Z",
     "shell.execute_reply.started": "2022-12-24T16:56:48.918439Z"
    }
   },
   "outputs": [],
   "source": [
    "def get_default_device():\n",
    "    \"\"\"Pick GPU if available, else CPU\"\"\"\n",
    "    if torch.cuda.is_available():\n",
    "        return torch.device('cuda')\n",
    "    else:\n",
    "        return torch.device('cpu')\n",
    "    \n",
    "def to_device(data, device):\n",
    "    \"\"\"Move tensor(s) to chosen device\"\"\"\n",
    "    if isinstance(data, (list,tuple)):\n",
    "        return [to_device(x, device) for x in data]\n",
    "    return data.to(device, non_blocking=True)\n",
    "\n",
    "class DeviceDataLoader():\n",
    "    \"\"\"Wrap a dataloader to move data to a device\"\"\"\n",
    "    def __init__(self, dl, device):\n",
    "        self.dl = dl\n",
    "        self.device = device\n",
    "        \n",
    "    def __iter__(self):\n",
    "        \"\"\"Yield a batch of data after moving it to device\"\"\"\n",
    "        for b in self.dl: \n",
    "            yield to_device(b, self.device)\n",
    "\n",
    "    def __len__(self):\n",
    "        \"\"\"Number of batches\"\"\"\n",
    "        return len(self.dl)\n",
    "    "
   ]
  },
  {
   "cell_type": "code",
   "execution_count": 52,
   "metadata": {
    "execution": {
     "iopub.execute_input": "2022-12-24T16:56:48.929141Z",
     "iopub.status.busy": "2022-12-24T16:56:48.928473Z",
     "iopub.status.idle": "2022-12-24T16:56:48.950382Z",
     "shell.execute_reply": "2022-12-24T16:56:48.948946Z",
     "shell.execute_reply.started": "2022-12-24T16:56:48.929060Z"
    }
   },
   "outputs": [
    {
     "name": "stdout",
     "output_type": "stream",
     "text": [
      "cuda\n"
     ]
    }
   ],
   "source": [
    "# set device based on where the notebook is running:\n",
    "device = get_default_device()\n",
    "print(device)\n",
    "\n",
    "\n",
    "# Wrap the data loaders so that the data and models get moved to the appropriate place:\n",
    "trainloader = DeviceDataLoader(trainloader, device)\n",
    "validloader = DeviceDataLoader(validloader, device)\n",
    "to_device(model, device);"
   ]
  },
  {
   "cell_type": "markdown",
   "metadata": {},
   "source": [
    "## Training the Model\n",
    "Recall the helper functions we created when defining the model:\n",
    "* training_step(self, batch) - takes the model and batch of images and returns loss\n",
    "* validation_step(self, batch) - takes the model and batch of images and returns loss and accuracy for the step\n",
    "* validation_epoch_end(self, outputs) - combines the losses and accuracy scores for the whole epoch\n",
    "* epoch_end(self, epoch, result) - prints out the epoch's training loss, validation loss and accuracy score\n",
    "* accuracy(outputs, labels) - compares the prediction to the actual label and computes the average number that were correct."
   ]
  },
  {
   "cell_type": "code",
   "execution_count": 53,
   "metadata": {
    "execution": {
     "iopub.execute_input": "2022-12-24T16:56:48.952514Z",
     "iopub.status.busy": "2022-12-24T16:56:48.952175Z",
     "iopub.status.idle": "2022-12-24T16:56:48.960594Z",
     "shell.execute_reply": "2022-12-24T16:56:48.959551Z",
     "shell.execute_reply.started": "2022-12-24T16:56:48.952481Z"
    }
   },
   "outputs": [],
   "source": [
    "# Define a function called evaluate that will be used to take a batch from validation data,\n",
    "# apply the model and return the loss and accuracy for the step and for the epoch overall\n",
    "\n",
    "@torch.no_grad()\n",
    "def evaluate(model, val_loader):\n",
    "    model.eval()\n",
    "    outputs = [model.validation_step(batch) for batch in val_loader]\n",
    "    return model.validation_epoch_end(outputs)\n",
    "\n",
    "# Define a function called fit that will be used for training/validation/seeing training progress:\n",
    "def fit(epochs, learn_rate, model, trainloader, validloader, optimizer):\n",
    "    progress = []\n",
    "    optimizer = optimizer\n",
    "    for e in range(epochs):\n",
    "        # Training Phase\n",
    "        model.train()\n",
    "        train_losses = []\n",
    "        for batch in trainloader:\n",
    "            loss = model.training_step(batch)\n",
    "            train_losses.append(loss)\n",
    "            loss.backward()\n",
    "            optimizer.step()\n",
    "            optimizer.zero_grad()\n",
    "        # Validation Phase\n",
    "        result = evaluate(model, validloader)\n",
    "        result['train_loss'] = torch.stack(train_losses).mean().item()\n",
    "        model.epoch_end(epochs, result)\n",
    "        progress.append(result)\n",
    "    return progress"
   ]
  },
  {
   "cell_type": "code",
   "execution_count": 54,
   "metadata": {
    "execution": {
     "iopub.execute_input": "2022-12-24T16:56:48.963260Z",
     "iopub.status.busy": "2022-12-24T16:56:48.962364Z",
     "iopub.status.idle": "2022-12-24T16:56:49.034406Z",
     "shell.execute_reply": "2022-12-24T16:56:49.033478Z",
     "shell.execute_reply.started": "2022-12-24T16:56:48.963225Z"
    }
   },
   "outputs": [
    {
     "name": "stdout",
     "output_type": "stream",
     "text": [
      "Loss Function:  CrossEntropyLoss()\n",
      "Optimization Function:  Adam (\n",
      "Parameter Group 0\n",
      "    amsgrad: False\n",
      "    betas: (0.9, 0.999)\n",
      "    eps: 1e-08\n",
      "    lr: 0.001\n",
      "    maximize: False\n",
      "    weight_decay: 0\n",
      ")\n",
      "Learning Rate:  0.001\n"
     ]
    }
   ],
   "source": [
    "model = to_device(TutorialModel(), device)\n",
    "\n",
    "epochs = 10\n",
    "learn_rate = 0.001\n",
    "\n",
    "# Loss function:\n",
    "criterion = nn.CrossEntropyLoss()\n",
    "\n",
    "# Optimizer:\n",
    "optimizer = optim.Adam(model.parameters(), lr=learn_rate)\n",
    "\n",
    "#What are our hp's (just to minimize scrolling)\n",
    "print('Loss Function: ', criterion)\n",
    "print('Optimization Function: ', optimizer)\n",
    "print('Learning Rate: ', learn_rate)"
   ]
  },
  {
   "cell_type": "code",
   "execution_count": null,
   "metadata": {},
   "outputs": [],
   "source": []
  },
  {
   "cell_type": "markdown",
   "metadata": {},
   "source": [
    "### Initial model performance\n",
    "Before the training step, see how model performs using the validation set with initial parameters."
   ]
  },
  {
   "cell_type": "code",
   "execution_count": 55,
   "metadata": {
    "execution": {
     "iopub.execute_input": "2022-12-24T16:56:49.037437Z",
     "iopub.status.busy": "2022-12-24T16:56:49.036498Z",
     "iopub.status.idle": "2022-12-24T16:56:49.099809Z",
     "shell.execute_reply": "2022-12-24T16:56:49.098884Z",
     "shell.execute_reply.started": "2022-12-24T16:56:49.037398Z"
    }
   },
   "outputs": [
    {
     "name": "stdout",
     "output_type": "stream",
     "text": [
      "cuda\n"
     ]
    }
   ],
   "source": [
    "model = to_device(TutorialModel(), device)\n",
    "print(device)"
   ]
  },
  {
   "cell_type": "code",
   "execution_count": 56,
   "metadata": {
    "execution": {
     "iopub.execute_input": "2022-12-24T16:56:49.102519Z",
     "iopub.status.busy": "2022-12-24T16:56:49.101842Z",
     "iopub.status.idle": "2022-12-24T16:56:50.886100Z",
     "shell.execute_reply": "2022-12-24T16:56:50.884948Z",
     "shell.execute_reply.started": "2022-12-24T16:56:49.102483Z"
    }
   },
   "outputs": [
    {
     "data": {
      "text/plain": [
       "{'val_loss': 2.302921772003174, 'val_acc': 0.10629595816135406}"
      ]
     },
     "execution_count": 56,
     "metadata": {},
     "output_type": "execute_result"
    }
   ],
   "source": [
    "evaluate(model, validloader)"
   ]
  },
  {
   "cell_type": "markdown",
   "metadata": {},
   "source": [
    "As expected, the untrained model's accuracy is about 10% - same as random guessing.\n",
    "\n",
    "Now we can train the model for real. For now, we'll keep the same hyperparameters as are already defined. If the results aren't good, we can change them later."
   ]
  },
  {
   "cell_type": "code",
   "execution_count": 57,
   "metadata": {
    "execution": {
     "iopub.execute_input": "2022-12-24T16:56:50.888446Z",
     "iopub.status.busy": "2022-12-24T16:56:50.888060Z",
     "iopub.status.idle": "2022-12-24T16:56:50.895297Z",
     "shell.execute_reply": "2022-12-24T16:56:50.894200Z",
     "shell.execute_reply.started": "2022-12-24T16:56:50.888397Z"
    }
   },
   "outputs": [],
   "source": [
    "epochs = 10\n",
    "learn_rate = 0.001\n",
    "\n",
    "# Loss function:\n",
    "criterion = nn.CrossEntropyLoss()\n",
    "\n",
    "# Optimizer:\n",
    "optimizer = optim.Adam(model.parameters(), lr=learn_rate)"
   ]
  },
  {
   "cell_type": "code",
   "execution_count": 58,
   "metadata": {
    "execution": {
     "iopub.execute_input": "2022-12-24T16:56:50.898266Z",
     "iopub.status.busy": "2022-12-24T16:56:50.897464Z",
     "iopub.status.idle": "2022-12-24T16:59:22.191444Z",
     "shell.execute_reply": "2022-12-24T16:59:22.189527Z",
     "shell.execute_reply.started": "2022-12-24T16:56:50.898225Z"
    }
   },
   "outputs": [
    {
     "name": "stdout",
     "output_type": "stream",
     "text": [
      "Epoch [10], train_loss: 1.7439, val_loss: 1.4172, val_acc: 0.4797\n",
      "Epoch [10], train_loss: 1.2236, val_loss: 1.1359, val_acc: 0.5924\n",
      "Epoch [10], train_loss: 0.9380, val_loss: 0.8723, val_acc: 0.6897\n",
      "Epoch [10], train_loss: 0.7420, val_loss: 0.7788, val_acc: 0.7322\n",
      "Epoch [10], train_loss: 0.5972, val_loss: 0.7258, val_acc: 0.7504\n",
      "Epoch [10], train_loss: 0.4699, val_loss: 0.7394, val_acc: 0.7609\n",
      "Epoch [10], train_loss: 0.3470, val_loss: 0.8404, val_acc: 0.7296\n",
      "Epoch [10], train_loss: 0.2542, val_loss: 0.8641, val_acc: 0.7553\n",
      "Epoch [10], train_loss: 0.1856, val_loss: 0.9358, val_acc: 0.7546\n",
      "Epoch [10], train_loss: 0.1396, val_loss: 1.0714, val_acc: 0.7521\n"
     ]
    }
   ],
   "source": [
    "progress = fit(epochs, learn_rate, model, trainloader, validloader, optimizer)"
   ]
  },
  {
   "cell_type": "markdown",
   "metadata": {},
   "source": [
    "Plot the training loss (and validation loss/accuracy, if recorded)."
   ]
  },
  {
   "cell_type": "code",
   "execution_count": 59,
   "metadata": {
    "execution": {
     "iopub.execute_input": "2022-12-24T16:59:22.195800Z",
     "iopub.status.busy": "2022-12-24T16:59:22.195481Z",
     "iopub.status.idle": "2022-12-24T16:59:22.481426Z",
     "shell.execute_reply": "2022-12-24T16:59:22.480492Z",
     "shell.execute_reply.started": "2022-12-24T16:59:22.195767Z"
    }
   },
   "outputs": [
    {
     "data": {
      "text/plain": [
       "<matplotlib.legend.Legend at 0x7f3de75788d0>"
      ]
     },
     "execution_count": 59,
     "metadata": {},
     "output_type": "execute_result"
    },
    {
     "data": {
      "image/png": "[encoded data removed]",
      "text/plain": [
       "<Figure size 432x288 with 1 Axes>"
      ]
     },
     "metadata": {
      "image/png": {
       "height": 277,
       "width": 392
      },
      "needs_background": "light"
     },
     "output_type": "display_data"
    }
   ],
   "source": [
    "## YOUR CODE HERE ##\n",
    "%matplotlib inline\n",
    "%config InlineBackend.figure_format = 'retina'\n",
    "\n",
    "import matplotlib.pyplot as plt\n",
    "\n",
    "accuracies = [x['val_acc'] for x in progress]\n",
    "plt.plot(accuracies, '-x')\n",
    "plt.xlabel('epoch')\n",
    "plt.ylabel('accuracy')\n",
    "plt.title('Accuracy vs. No. of epochs');\n",
    "\n",
    "\n",
    "plt.legend(frameon=False)"
   ]
  },
  {
   "cell_type": "code",
   "execution_count": 62,
   "metadata": {
    "execution": {
     "iopub.execute_input": "2022-12-24T17:00:55.725493Z",
     "iopub.status.busy": "2022-12-24T17:00:55.724776Z",
     "iopub.status.idle": "2022-12-24T17:00:56.046782Z",
     "shell.execute_reply": "2022-12-24T17:00:56.045744Z",
     "shell.execute_reply.started": "2022-12-24T17:00:55.725452Z"
    }
   },
   "outputs": [
    {
     "data": {
      "image/png": "[encoded data removed]",
      "text/plain": [
       "<Figure size 432x288 with 1 Axes>"
      ]
     },
     "metadata": {
      "image/png": {
       "height": 277,
       "width": 385
      },
      "needs_background": "light"
     },
     "output_type": "display_data"
    }
   ],
   "source": [
    "train_losses = [x.get('train_loss') for x in progress]\n",
    "val_losses = [x['val_loss'] for x in progress]\n",
    "plt.plot(train_losses, '-bx')\n",
    "plt.plot(val_losses, '-rx')\n",
    "plt.xlabel('epoch')\n",
    "plt.ylabel('loss')\n",
    "plt.legend(['Training', 'Validation'])\n",
    "plt.title('Loss vs. No. of epochs');"
   ]
  },
  {
   "cell_type": "markdown",
   "metadata": {},
   "source": []
  },
  {
   "cell_type": "markdown",
   "metadata": {},
   "source": [
    "## Testing your model\n",
    "Using the previously created `DataLoader` for the test set, compute the percentage of correct predictions using the highest probability prediction. \n",
    "\n",
    "If your accuracy is over 70%, great work! \n",
    "This is a hard task to exceed 70% on.\n",
    "\n",
    "If your accuracy is under 45%, you'll need to make improvements.\n",
    "Go back and check your model architecture, loss function, and optimizer to make sure they're appropriate for an image classification task."
   ]
  },
  {
   "cell_type": "code",
   "execution_count": 60,
   "metadata": {
    "execution": {
     "iopub.execute_input": "2022-12-24T16:59:22.483463Z",
     "iopub.status.busy": "2022-12-24T16:59:22.482724Z",
     "iopub.status.idle": "2022-12-24T16:59:22.488991Z",
     "shell.execute_reply": "2022-12-24T16:59:22.487937Z",
     "shell.execute_reply.started": "2022-12-24T16:59:22.483423Z"
    }
   },
   "outputs": [],
   "source": [
    "## YOUR CODE HERE ##"
   ]
  },
  {
   "cell_type": "markdown",
   "metadata": {},
   "source": [
    "## Saving your model\n",
    "Using `torch.save`, save your model for future loading."
   ]
  },
  {
   "cell_type": "code",
   "execution_count": 1,
   "metadata": {
    "execution": {
     "iopub.execute_input": "2022-12-24T16:59:22.495351Z",
     "iopub.status.busy": "2022-12-24T16:59:22.494349Z",
     "iopub.status.idle": "2022-12-24T16:59:22.499680Z",
     "shell.execute_reply": "2022-12-24T16:59:22.498620Z",
     "shell.execute_reply.started": "2022-12-24T16:59:22.495309Z"
    }
   },
   "outputs": [
    {
     "ename": "NameError",
     "evalue": "name 'torch' is not defined",
     "output_type": "error",
     "traceback": [
      "\u001b[0;31m---------------------------------------------------------------------------\u001b[0m",
      "\u001b[0;31mNameError\u001b[0m                                 Traceback (most recent call last)",
      "\u001b[0;32m/var/folders/pj/w4qst4gx3n71p8wgs8krz2480000gn/T/ipykernel_42061/3162431821.py\u001b[0m in \u001b[0;36m<module>\u001b[0;34m\u001b[0m\n\u001b[1;32m      1\u001b[0m \u001b[0;31m## YOUR CODE HERE ##\u001b[0m\u001b[0;34m\u001b[0m\u001b[0;34m\u001b[0m\u001b[0m\n\u001b[0;32m----> 2\u001b[0;31m \u001b[0mtorch\u001b[0m\u001b[0;34m.\u001b[0m\u001b[0msave\u001b[0m\u001b[0;34m(\u001b[0m\u001b[0mmodel\u001b[0m\u001b[0;34m.\u001b[0m\u001b[0mstate_dict\u001b[0m\u001b[0;34m(\u001b[0m\u001b[0;34m)\u001b[0m\u001b[0;34m,\u001b[0m \u001b[0;34m'cifar10-cnn.pth'\u001b[0m\u001b[0;34m)\u001b[0m\u001b[0;34m\u001b[0m\u001b[0;34m\u001b[0m\u001b[0m\n\u001b[0m",
      "\u001b[0;31mNameError\u001b[0m: name 'torch' is not defined"
     ]
    }
   ],
   "source": [
    "## YOUR CODE HERE ##\n"
   ]
  },
  {
   "cell_type": "markdown",
   "metadata": {},
   "source": [
    "## Make a Recommendation\n",
    "\n",
    "Based on your evaluation, what is your recommendation on whether to build or buy? Explain your reasoning below."
   ]
  },
  {
   "cell_type": "markdown",
   "metadata": {},
   "source": [
    "\n",
    "\n",
    "**Double click this cell to modify it**\n",
    "\n"
   ]
  }
 ],
 "metadata": {
  "kernelspec": {
   "display_name": "Python 3 (ipykernel)",
   "language": "python",
   "name": "python3"
  },
  "language_info": {
   "codemirror_mode": {
    "name": "ipython",
    "version": 3
   },
   "file_extension": ".py",
   "mimetype": "text/x-python",
   "name": "python",
   "nbconvert_exporter": "python",
   "pygments_lexer": "ipython3",
   "version": "3.9.13"
  }
 },
 "nbformat": 4,
 "nbformat_minor": 4
}
